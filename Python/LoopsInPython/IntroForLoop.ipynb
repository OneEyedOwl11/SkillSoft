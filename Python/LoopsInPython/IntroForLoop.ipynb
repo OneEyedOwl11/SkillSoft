{
 "cells": [
  {
   "cell_type": "code",
   "execution_count": 1,
   "metadata": {},
   "outputs": [
    {
     "name": "stdout",
     "output_type": "stream",
     "text": [
      "New York is present on the list\n"
     ]
    }
   ],
   "source": [
    "us_cities = ['New York','Nashville','Seattle']\n",
    "\n",
    "for city in us_cities:\n",
    "    if city == 'New York':\n",
    "        print('New York is present on the list')"
   ]
  },
  {
   "cell_type": "code",
   "execution_count": 3,
   "metadata": {},
   "outputs": [
    {
     "name": "stdout",
     "output_type": "stream",
     "text": [
      "This list contains and even number:  2\n",
      "This list contains and even number:  22\n"
     ]
    }
   ],
   "source": [
    "numbers = [11,33,55,39,2,75,37,22,23,41,13]\n",
    "\n",
    "for num in numbers:\n",
    "    if num % 2 == 0:\n",
    "        print('This list contains and even number: ', num)"
   ]
  },
  {
   "cell_type": "code",
   "execution_count": 4,
   "metadata": {},
   "outputs": [
    {
     "name": "stdout",
     "output_type": "stream",
     "text": [
      "2016  is a leap year\n",
      "2017  is not a leap year\n",
      "2018  is not a leap year\n",
      "2019  is not a leap year\n",
      "2020  is a leap year\n"
     ]
    }
   ],
   "source": [
    "years = [2016,2017,2018,2019,2020]\n",
    "\n",
    "for year in years:\n",
    "    if year % 4 ==0:\n",
    "        print(year, \" is a leap year\")\n",
    "        \n",
    "    else:\n",
    "        print(year, ' is not a leap year')"
   ]
  },
  {
   "cell_type": "code",
   "execution_count": 7,
   "metadata": {},
   "outputs": [
    {
     "name": "stdout",
     "output_type": "stream",
     "text": [
      "['g1', 'g2', 'g3']\n",
      "['b1', 'b2', 'b3']\n"
     ]
    }
   ],
   "source": [
    "names = [['g1','g2','g3'],\n",
    "         ['b1','b2','b3']]\n",
    "\n",
    "for sublist in names:\n",
    "    print(sublist)"
   ]
  },
  {
   "cell_type": "code",
   "execution_count": 9,
   "metadata": {},
   "outputs": [
    {
     "name": "stdout",
     "output_type": "stream",
     "text": [
      "g1\n",
      "g2\n",
      "g3\n",
      "b1\n",
      "b2\n",
      "b3\n"
     ]
    }
   ],
   "source": [
    "for sublist in names:\n",
    "    for name in sublist:\n",
    "        print(name)"
   ]
  },
  {
   "cell_type": "code",
   "execution_count": 10,
   "metadata": {},
   "outputs": [
    {
     "name": "stdout",
     "output_type": "stream",
     "text": [
      "Red o1\n",
      "Red o2\n",
      "Red o3\n",
      "Green o1\n",
      "Green o2\n",
      "Green o3\n",
      "Blue o1\n",
      "Blue o2\n",
      "Blue o3\n"
     ]
    }
   ],
   "source": [
    "list_colour = ['Red','Green','Blue']\n",
    "list_obj = ['o1','o2','o3']\n",
    "\n",
    "for colour in list_colour:\n",
    "    for obj in list_obj:\n",
    "        print(colour, obj)"
   ]
  },
  {
   "cell_type": "code",
   "execution_count": null,
   "metadata": {},
   "outputs": [],
   "source": []
  },
  {
   "cell_type": "code",
   "execution_count": null,
   "metadata": {},
   "outputs": [],
   "source": []
  },
  {
   "cell_type": "code",
   "execution_count": null,
   "metadata": {},
   "outputs": [],
   "source": []
  },
  {
   "cell_type": "code",
   "execution_count": null,
   "metadata": {},
   "outputs": [],
   "source": []
  },
  {
   "cell_type": "code",
   "execution_count": null,
   "metadata": {},
   "outputs": [],
   "source": []
  },
  {
   "cell_type": "code",
   "execution_count": null,
   "metadata": {},
   "outputs": [],
   "source": []
  },
  {
   "cell_type": "code",
   "execution_count": null,
   "metadata": {},
   "outputs": [],
   "source": []
  },
  {
   "cell_type": "code",
   "execution_count": null,
   "metadata": {},
   "outputs": [],
   "source": []
  },
  {
   "cell_type": "code",
   "execution_count": null,
   "metadata": {},
   "outputs": [],
   "source": []
  },
  {
   "cell_type": "code",
   "execution_count": null,
   "metadata": {},
   "outputs": [],
   "source": []
  },
  {
   "cell_type": "code",
   "execution_count": null,
   "metadata": {},
   "outputs": [],
   "source": []
  },
  {
   "cell_type": "code",
   "execution_count": null,
   "metadata": {},
   "outputs": [],
   "source": []
  },
  {
   "cell_type": "code",
   "execution_count": null,
   "metadata": {},
   "outputs": [],
   "source": []
  },
  {
   "cell_type": "code",
   "execution_count": null,
   "metadata": {},
   "outputs": [],
   "source": []
  },
  {
   "cell_type": "code",
   "execution_count": null,
   "metadata": {},
   "outputs": [],
   "source": []
  },
  {
   "cell_type": "code",
   "execution_count": null,
   "metadata": {},
   "outputs": [],
   "source": []
  },
  {
   "cell_type": "code",
   "execution_count": null,
   "metadata": {},
   "outputs": [],
   "source": []
  }
 ],
 "metadata": {
  "kernelspec": {
   "display_name": "Python 3",
   "language": "python",
   "name": "python3"
  },
  "language_info": {
   "codemirror_mode": {
    "name": "ipython",
    "version": 3
   },
   "file_extension": ".py",
   "mimetype": "text/x-python",
   "name": "python",
   "nbconvert_exporter": "python",
   "pygments_lexer": "ipython3",
   "version": "3.8.3"
  }
 },
 "nbformat": 4,
 "nbformat_minor": 4
}
