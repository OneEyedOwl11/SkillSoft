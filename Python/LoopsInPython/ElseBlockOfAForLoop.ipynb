{
 "cells": [
  {
   "cell_type": "code",
   "execution_count": 1,
   "metadata": {},
   "outputs": [
    {
     "name": "stdout",
     "output_type": "stream",
     "text": [
      "2 is the quotient of 4 / 2\n",
      "3 is the quotient of 6 / 2\n",
      "4 is the quotient of 9 / 2\n",
      "5 is the quotient of 10 / 2\n"
     ]
    }
   ],
   "source": [
    "numbers = [4,6,9,10]\n",
    "\n",
    "for num in numbers:\n",
    "    quotient = num // 2 \n",
    "    \n",
    "    print(quotient, \"is the quotient of\", num, '/ 2')"
   ]
  },
  {
   "cell_type": "code",
   "execution_count": 2,
   "metadata": {},
   "outputs": [
    {
     "name": "stdout",
     "output_type": "stream",
     "text": [
      "Type of  145  is  <class 'int'>\n",
      "Type of  10.5  is  <class 'float'>\n",
      "Type of  (1+3j)  is  <class 'complex'>\n",
      "Type of  True  is  <class 'bool'>\n",
      "Type of  Python  is  <class 'str'>\n",
      "Type of  (0, 1)  is  <class 'tuple'>\n",
      "Type of  [2, -5]  is  <class 'list'>\n",
      "Type of  {'Class': 'V', 'Section': 'A'}  is  <class 'dict'>\n"
     ]
    }
   ],
   "source": [
    "mixed_list = [145, 10.5, 1+3j,\n",
    "             True, 'Python',\n",
    "              (0,1),[2, -5],\n",
    "              {'Class':'V','Section':'A'}]\n",
    "\n",
    "for item in mixed_list:\n",
    "    print('Type of ', item, \" is \", type(item))"
   ]
  },
  {
   "cell_type": "code",
   "execution_count": 3,
   "metadata": {},
   "outputs": [
    {
     "name": "stdout",
     "output_type": "stream",
     "text": [
      "square of  2  is  4\n",
      "square of  4  is  16\n",
      "square of  6  is  36\n",
      "square of  8  is  64\n"
     ]
    }
   ],
   "source": [
    "num_list = [2,4,6,8]\n",
    "\n",
    "square = 0\n",
    "\n",
    "for val in num_list:\n",
    "    square = val ** 2\n",
    "    \n",
    "    print('square of ', val, ' is ', square)"
   ]
  },
  {
   "cell_type": "code",
   "execution_count": 5,
   "metadata": {},
   "outputs": [
    {
     "name": "stdout",
     "output_type": "stream",
     "text": [
      "enter a string: nintendo\n",
      "8\n"
     ]
    }
   ],
   "source": [
    "string = input('enter a string: ')\n",
    "\n",
    "count = 0 \n",
    "\n",
    "for i in string:\n",
    "    count = count + 1 \n",
    "    \n",
    "print(count)"
   ]
  },
  {
   "cell_type": "code",
   "execution_count": 6,
   "metadata": {},
   "outputs": [
    {
     "name": "stdout",
     "output_type": "stream",
     "text": [
      "2\n",
      "3\n",
      "5\n",
      "7\n",
      "no more items left in that list\n"
     ]
    }
   ],
   "source": [
    "numbers = [2,3,5,7]\n",
    "\n",
    "for num in numbers:\n",
    "    print(num)\n",
    "    \n",
    "else:\n",
    "    print('no more items left in that list')"
   ]
  },
  {
   "cell_type": "code",
   "execution_count": 8,
   "metadata": {},
   "outputs": [
    {
     "name": "stdout",
     "output_type": "stream",
     "text": [
      "b\n",
      "d\n",
      "c\n",
      "a\n",
      "no more chars left in that set\n"
     ]
    }
   ],
   "source": [
    "chars = {'a','b','c','d'}\n",
    "\n",
    "for char in chars:\n",
    "    print(char)\n",
    "    \n",
    "else:\n",
    "    print('no more chars left in that set')"
   ]
  },
  {
   "cell_type": "code",
   "execution_count": null,
   "metadata": {},
   "outputs": [],
   "source": []
  },
  {
   "cell_type": "code",
   "execution_count": null,
   "metadata": {},
   "outputs": [],
   "source": []
  },
  {
   "cell_type": "code",
   "execution_count": null,
   "metadata": {},
   "outputs": [],
   "source": []
  },
  {
   "cell_type": "code",
   "execution_count": null,
   "metadata": {},
   "outputs": [],
   "source": []
  },
  {
   "cell_type": "code",
   "execution_count": null,
   "metadata": {},
   "outputs": [],
   "source": []
  },
  {
   "cell_type": "code",
   "execution_count": null,
   "metadata": {},
   "outputs": [],
   "source": []
  },
  {
   "cell_type": "code",
   "execution_count": null,
   "metadata": {},
   "outputs": [],
   "source": []
  },
  {
   "cell_type": "code",
   "execution_count": null,
   "metadata": {},
   "outputs": [],
   "source": []
  },
  {
   "cell_type": "code",
   "execution_count": null,
   "metadata": {},
   "outputs": [],
   "source": []
  },
  {
   "cell_type": "code",
   "execution_count": null,
   "metadata": {},
   "outputs": [],
   "source": []
  },
  {
   "cell_type": "code",
   "execution_count": null,
   "metadata": {},
   "outputs": [],
   "source": []
  },
  {
   "cell_type": "code",
   "execution_count": null,
   "metadata": {},
   "outputs": [],
   "source": []
  },
  {
   "cell_type": "code",
   "execution_count": null,
   "metadata": {},
   "outputs": [],
   "source": []
  },
  {
   "cell_type": "code",
   "execution_count": null,
   "metadata": {},
   "outputs": [],
   "source": []
  },
  {
   "cell_type": "code",
   "execution_count": null,
   "metadata": {},
   "outputs": [],
   "source": []
  },
  {
   "cell_type": "code",
   "execution_count": null,
   "metadata": {},
   "outputs": [],
   "source": []
  },
  {
   "cell_type": "code",
   "execution_count": null,
   "metadata": {},
   "outputs": [],
   "source": []
  },
  {
   "cell_type": "code",
   "execution_count": null,
   "metadata": {},
   "outputs": [],
   "source": []
  },
  {
   "cell_type": "code",
   "execution_count": null,
   "metadata": {},
   "outputs": [],
   "source": []
  },
  {
   "cell_type": "code",
   "execution_count": null,
   "metadata": {},
   "outputs": [],
   "source": []
  },
  {
   "cell_type": "code",
   "execution_count": null,
   "metadata": {},
   "outputs": [],
   "source": []
  },
  {
   "cell_type": "code",
   "execution_count": null,
   "metadata": {},
   "outputs": [],
   "source": []
  },
  {
   "cell_type": "code",
   "execution_count": null,
   "metadata": {},
   "outputs": [],
   "source": []
  },
  {
   "cell_type": "code",
   "execution_count": null,
   "metadata": {},
   "outputs": [],
   "source": []
  },
  {
   "cell_type": "code",
   "execution_count": null,
   "metadata": {},
   "outputs": [],
   "source": []
  }
 ],
 "metadata": {
  "kernelspec": {
   "display_name": "Python 3",
   "language": "python",
   "name": "python3"
  },
  "language_info": {
   "codemirror_mode": {
    "name": "ipython",
    "version": 3
   },
   "file_extension": ".py",
   "mimetype": "text/x-python",
   "name": "python",
   "nbconvert_exporter": "python",
   "pygments_lexer": "ipython3",
   "version": "3.8.3"
  }
 },
 "nbformat": 4,
 "nbformat_minor": 4
}
