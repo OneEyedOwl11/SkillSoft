{
 "cells": [
  {
   "cell_type": "code",
   "execution_count": null,
   "metadata": {},
   "outputs": [],
   "source": [
    "#Functions are reusable pieces of code and they can be used with many different variables to perform actions and \n",
    "#calcs and returns results to user\n",
    "#defining a function in python does not execute it\n",
    "#invoking function will execute it\n",
    "\n",
    "#You can pass information to functions by passing them into the brackets (these are called input arguments)\n",
    "#that instantiate the function \n",
    "#and you can return values by using the return keyword on a variable or an expression\n",
    "#default return value is None\n",
    "\n",
    "#positional arguments use the position that the arguments were made in to input the values for those arguments\n",
    "#> so the arguments have to be set in order when you are inputting the variables\n",
    "\n",
    "#Keyword on the other hand can be used in any order (as long as ther is no positional arguments after a keyword)\n",
    "#"
   ]
  }
 ],
 "metadata": {
  "kernelspec": {
   "display_name": "Python 3",
   "language": "python",
   "name": "python3"
  },
  "language_info": {
   "codemirror_mode": {
    "name": "ipython",
    "version": 3
   },
   "file_extension": ".py",
   "mimetype": "text/x-python",
   "name": "python",
   "nbconvert_exporter": "python",
   "pygments_lexer": "ipython3",
   "version": "3.8.3"
  }
 },
 "nbformat": 4,
 "nbformat_minor": 4
}
