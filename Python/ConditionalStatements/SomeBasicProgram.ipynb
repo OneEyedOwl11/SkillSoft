{
 "cells": [
  {
   "cell_type": "code",
   "execution_count": 1,
   "metadata": {},
   "outputs": [
    {
     "name": "stdout",
     "output_type": "stream",
     "text": [
      "Enter salary amount: 3600\n",
      "enter expenses: 2500\n",
      "My total savings this month is  1100\n"
     ]
    }
   ],
   "source": [
    "salary = int(input('Enter salary amount: '))\n",
    "expenses = int(input('enter expenses: '))\n",
    "\n",
    "savings = salary - expenses\n",
    "print('My total savings this month is ', savings)"
   ]
  },
  {
   "cell_type": "code",
   "execution_count": 3,
   "metadata": {},
   "outputs": [
    {
     "name": "stdout",
     "output_type": "stream",
     "text": [
      "Enter the first variable: 20\n",
      "Enter the second variable: 25\n",
      "\n",
      "First_num is: 25 \n",
      "Second_num is: 20\n"
     ]
    }
   ],
   "source": [
    "first_num = int(input('Enter the first variable: '))\n",
    "second_num = int(input('Enter the second variable: '))\n",
    "\n",
    "first_num = first_num + second_num\n",
    "second_num = first_num - second_num\n",
    "first_num = first_num - second_num\n",
    "\n",
    "print('\\nFirst_num is:', first_num, '\\nSecond_num is:', second_num)"
   ]
  },
  {
   "cell_type": "code",
   "execution_count": 4,
   "metadata": {},
   "outputs": [
    {
     "name": "stdout",
     "output_type": "stream",
     "text": [
      "Enter a number: 100\n",
      "100 + 100100 + 100100100 ** 100200300\n"
     ]
    }
   ],
   "source": [
    "num = int(input('Enter a number: '))\n",
    "\n",
    "temp1 = str(num)\n",
    "temp2 = temp1 + temp1\n",
    "temp3 = temp1 + temp1 + temp1\n",
    "\n",
    "total = num + (int(temp2) + int(temp3))\n",
    "\n",
    "print(temp1, '+', temp2, '+', temp3, '**', total )"
   ]
  },
  {
   "cell_type": "code",
   "execution_count": 5,
   "metadata": {},
   "outputs": [
    {
     "name": "stdout",
     "output_type": "stream",
     "text": [
      "Enter the first number: 100\n",
      "Enter the second number: 26\n",
      "\n",
      "Quotient: 3\n",
      "\n",
      "Remainder: 22\n"
     ]
    }
   ],
   "source": [
    "num_1 = int(input('Enter the first number: '))\n",
    "num_2 = int(input('Enter the second number: '))\n",
    "\n",
    "Quotient = int(num_1 / num_2)\n",
    "print('\\nQuotient:', Quotient)\n",
    "\n",
    "Remainder = int(num_1 % num_2)\n",
    "print('\\nRemainder:', Remainder)"
   ]
  },
  {
   "cell_type": "code",
   "execution_count": 6,
   "metadata": {},
   "outputs": [
    {
     "name": "stdout",
     "output_type": "stream",
     "text": [
      "Enter the principle amount: 6000\n",
      "Enter the time in years: 2\n",
      "Enter the rate: 5.5\n",
      "The simple interest is:  660.0\n"
     ]
    }
   ],
   "source": [
    "principle = float(input('Enter the principle amount: '))\n",
    "time = int(input('Enter the time in years: '))\n",
    "rate = float(input('Enter the rate: '))\n",
    "\n",
    "simple_int = (principle * time * rate) / 100\n",
    "\n",
    "print('The simple interest is: ', simple_int)"
   ]
  },
  {
   "cell_type": "code",
   "execution_count": 7,
   "metadata": {},
   "outputs": [
    {
     "name": "stdout",
     "output_type": "stream",
     "text": [
      "Height in centimeters: 170\n",
      "the height in inches:  66.98\n",
      "the height in feet:  5.51\n"
     ]
    }
   ],
   "source": [
    "cm = int(input('Height in centimeters: '))\n",
    "inches = 0.394 * cm\n",
    "feet = 0.0324 * cm\n",
    "\n",
    "print('the height in inches: ', round(inches, 2))\n",
    "print('the height in feet: ', round(feet, 2))"
   ]
  },
  {
   "cell_type": "code",
   "execution_count": null,
   "metadata": {},
   "outputs": [],
   "source": []
  },
  {
   "cell_type": "code",
   "execution_count": null,
   "metadata": {},
   "outputs": [],
   "source": []
  },
  {
   "cell_type": "code",
   "execution_count": null,
   "metadata": {},
   "outputs": [],
   "source": []
  },
  {
   "cell_type": "code",
   "execution_count": null,
   "metadata": {},
   "outputs": [],
   "source": []
  },
  {
   "cell_type": "code",
   "execution_count": null,
   "metadata": {},
   "outputs": [],
   "source": []
  },
  {
   "cell_type": "code",
   "execution_count": null,
   "metadata": {},
   "outputs": [],
   "source": []
  },
  {
   "cell_type": "code",
   "execution_count": null,
   "metadata": {},
   "outputs": [],
   "source": []
  },
  {
   "cell_type": "code",
   "execution_count": null,
   "metadata": {},
   "outputs": [],
   "source": []
  },
  {
   "cell_type": "code",
   "execution_count": null,
   "metadata": {},
   "outputs": [],
   "source": []
  },
  {
   "cell_type": "code",
   "execution_count": null,
   "metadata": {},
   "outputs": [],
   "source": []
  },
  {
   "cell_type": "code",
   "execution_count": null,
   "metadata": {},
   "outputs": [],
   "source": []
  },
  {
   "cell_type": "code",
   "execution_count": null,
   "metadata": {},
   "outputs": [],
   "source": []
  },
  {
   "cell_type": "code",
   "execution_count": null,
   "metadata": {},
   "outputs": [],
   "source": []
  },
  {
   "cell_type": "code",
   "execution_count": null,
   "metadata": {},
   "outputs": [],
   "source": []
  },
  {
   "cell_type": "code",
   "execution_count": null,
   "metadata": {},
   "outputs": [],
   "source": []
  },
  {
   "cell_type": "code",
   "execution_count": null,
   "metadata": {},
   "outputs": [],
   "source": []
  },
  {
   "cell_type": "code",
   "execution_count": null,
   "metadata": {},
   "outputs": [],
   "source": []
  },
  {
   "cell_type": "code",
   "execution_count": null,
   "metadata": {},
   "outputs": [],
   "source": []
  },
  {
   "cell_type": "code",
   "execution_count": null,
   "metadata": {},
   "outputs": [],
   "source": []
  },
  {
   "cell_type": "code",
   "execution_count": null,
   "metadata": {},
   "outputs": [],
   "source": []
  },
  {
   "cell_type": "code",
   "execution_count": null,
   "metadata": {},
   "outputs": [],
   "source": []
  },
  {
   "cell_type": "code",
   "execution_count": null,
   "metadata": {},
   "outputs": [],
   "source": []
  },
  {
   "cell_type": "code",
   "execution_count": null,
   "metadata": {},
   "outputs": [],
   "source": []
  },
  {
   "cell_type": "code",
   "execution_count": null,
   "metadata": {},
   "outputs": [],
   "source": []
  },
  {
   "cell_type": "code",
   "execution_count": null,
   "metadata": {},
   "outputs": [],
   "source": []
  },
  {
   "cell_type": "code",
   "execution_count": null,
   "metadata": {},
   "outputs": [],
   "source": []
  },
  {
   "cell_type": "code",
   "execution_count": null,
   "metadata": {},
   "outputs": [],
   "source": []
  },
  {
   "cell_type": "code",
   "execution_count": null,
   "metadata": {},
   "outputs": [],
   "source": []
  }
 ],
 "metadata": {
  "kernelspec": {
   "display_name": "Python 3",
   "language": "python",
   "name": "python3"
  },
  "language_info": {
   "codemirror_mode": {
    "name": "ipython",
    "version": 3
   },
   "file_extension": ".py",
   "mimetype": "text/x-python",
   "name": "python",
   "nbconvert_exporter": "python",
   "pygments_lexer": "ipython3",
   "version": "3.8.3"
  }
 },
 "nbformat": 4,
 "nbformat_minor": 4
}
