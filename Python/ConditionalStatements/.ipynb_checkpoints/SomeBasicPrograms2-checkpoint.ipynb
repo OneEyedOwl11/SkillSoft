{
 "cells": [
  {
   "cell_type": "code",
   "execution_count": 1,
   "metadata": {},
   "outputs": [
    {
     "name": "stdout",
     "output_type": "stream",
     "text": [
      "list of cars before the swap:  ['Toyota Camry', 'Honda Accord', 'Honda Civic', 'Toyota Corolla']\n",
      "list of cars after the swap:  ['Honda Civic', 'Honda Accord', 'Toyota Camry', 'Toyota Corolla']\n"
     ]
    }
   ],
   "source": [
    "cars_list = ['Toyota Camry','Honda Accord','Honda Civic','Toyota Corolla']\n",
    "\n",
    "print('list of cars before the swap: ', cars_list)\n",
    "\n",
    "cars_list_temp = cars_list[0]\n",
    "cars_list[0] = cars_list[2]\n",
    "cars_list[2] = cars_list_temp\n",
    "\n",
    "print('list of cars after the swap: ', cars_list)"
   ]
  },
  {
   "cell_type": "code",
   "execution_count": 2,
   "metadata": {},
   "outputs": [
    {
     "name": "stdout",
     "output_type": "stream",
     "text": [
      "list of cars before the swap:  ['Toyota Camry', 'Honda Accord', 'Honda Civic', 'Toyota Corolla']\n",
      "list of cars after the swap:  ['Toyota Camry', 'Honda Civic', 'Honda Accord', 'Toyota Corolla']\n"
     ]
    }
   ],
   "source": [
    "cars_list = ['Toyota Camry','Honda Accord','Honda Civic','Toyota Corolla']\n",
    "\n",
    "print('list of cars before the swap: ', cars_list)\n",
    "\n",
    "car1 = 1\n",
    "car2 = 2\n",
    "\n",
    "cars_list[car1], cars_list[car2] = cars_list[car2] , cars_list[car1]\n",
    "\n",
    "print('list of cars after the swap: ', cars_list)"
   ]
  },
  {
   "cell_type": "code",
   "execution_count": 3,
   "metadata": {},
   "outputs": [
    {
     "name": "stdout",
     "output_type": "stream",
     "text": [
      "['Sofia', 'Ella', 'Samuel', 'Ella', 'Aiden', 'Sofia']\n",
      "number of stundents:  6\n",
      "\n",
      "New student list:  ['Aiden', 'Samuel', 'Sofia', 'Ella']\n",
      "length of modified list 4\n",
      "there ar 2 duplicated elements\n"
     ]
    }
   ],
   "source": [
    "list_student = ['Sofia','Ella','Samuel','Ella','Aiden','Sofia']\n",
    "\n",
    "print(list_student)\n",
    "\n",
    "print('number of stundents: ', len(list_student))\n",
    "\n",
    "student_set = set(list_student)\n",
    "print('\\nNew student list: ', list(student_set))\n",
    "print('length of modified list', len(student_set))\n",
    "print('there ar %s duplicated elements'%(len(list_student) - len(student_set)))"
   ]
  },
  {
   "cell_type": "code",
   "execution_count": 4,
   "metadata": {},
   "outputs": [],
   "source": [
    "list_str = ['Sofia','Ella','Samuel','Ella','Aiden','Sofia']"
   ]
  },
  {
   "cell_type": "code",
   "execution_count": 5,
   "metadata": {},
   "outputs": [
    {
     "name": "stdout",
     "output_type": "stream",
     "text": [
      "there are 2 duplicate elements\n"
     ]
    }
   ],
   "source": [
    "len_list_str = len(list_str)\n",
    "len_set_str = len(set(list_str))\n",
    "\n",
    "if len_list_str == len_set_str:\n",
    "    print('there are no duplicates')\n",
    "    \n",
    "else:\n",
    "    print('there are {} duplicate elements'.format(len_list_str - len_set_str))"
   ]
  },
  {
   "cell_type": "code",
   "execution_count": 6,
   "metadata": {},
   "outputs": [
    {
     "name": "stdout",
     "output_type": "stream",
     "text": [
      "the number strored in the num_value is: 50\n",
      "The number is an even number\n"
     ]
    }
   ],
   "source": [
    "num_value = 50\n",
    "print('the number strored in the num_value is:', num_value)\n",
    "\n",
    "if not num_value %2 == 0:\n",
    "    print('the number is an odd number')\n",
    "else:\n",
    "    print('The number is an even number')"
   ]
  },
  {
   "cell_type": "code",
   "execution_count": 7,
   "metadata": {},
   "outputs": [
    {
     "name": "stdout",
     "output_type": "stream",
     "text": [
      "enter somme comma separated numbers: 1,2,3,6\n",
      "List :  ['1', '2', '3', '6']\n",
      "Tuple :  ('1', '2', '3', '6')\n"
     ]
    }
   ],
   "source": [
    "values = input('enter some numbers separated comma: ')\n",
    "\n",
    "list_value = values.split(',')\n",
    "tuple_value = tuple(list_value)\n",
    "\n",
    "print('List : ', list_value)\n",
    "print('Tuple : ', tuple_value)"
   ]
  },
  {
   "cell_type": "code",
   "execution_count": 8,
   "metadata": {},
   "outputs": [
    {
     "name": "stdout",
     "output_type": "stream",
     "text": [
      "enter words separated by comma's: i,like,cheese\n",
      "['cheese', 'i', 'like']\n"
     ]
    }
   ],
   "source": [
    "list_words = input('enter words separated by comma\\'s: ')\n",
    "\n",
    "words = list_words.split(',')\n",
    "new_list_words = sorted(words)\n",
    "\n",
    "print(new_list_words)"
   ]
  },
  {
   "cell_type": "code",
   "execution_count": 9,
   "metadata": {},
   "outputs": [
    {
     "name": "stdout",
     "output_type": "stream",
     "text": [
      "Enter some whitespace-separated by some words : i like cheese\n",
      "cheese i like\n"
     ]
    }
   ],
   "source": [
    "sentence = input('Enter some whitespace-separated by some words : ')\n",
    "\n",
    "words = sentence.split(' ')\n",
    "\n",
    "set_of_words = set(words)\n",
    "\n",
    "sorted_set_of_words = sorted(set_of_words)\n",
    "\n",
    "print(' '.join(sorted_set_of_words))"
   ]
  },
  {
   "cell_type": "code",
   "execution_count": null,
   "metadata": {},
   "outputs": [],
   "source": []
  },
  {
   "cell_type": "code",
   "execution_count": null,
   "metadata": {},
   "outputs": [],
   "source": []
  },
  {
   "cell_type": "code",
   "execution_count": null,
   "metadata": {},
   "outputs": [],
   "source": []
  },
  {
   "cell_type": "code",
   "execution_count": null,
   "metadata": {},
   "outputs": [],
   "source": []
  },
  {
   "cell_type": "code",
   "execution_count": null,
   "metadata": {},
   "outputs": [],
   "source": []
  },
  {
   "cell_type": "code",
   "execution_count": null,
   "metadata": {},
   "outputs": [],
   "source": []
  },
  {
   "cell_type": "code",
   "execution_count": null,
   "metadata": {},
   "outputs": [],
   "source": []
  },
  {
   "cell_type": "code",
   "execution_count": null,
   "metadata": {},
   "outputs": [],
   "source": []
  },
  {
   "cell_type": "code",
   "execution_count": null,
   "metadata": {},
   "outputs": [],
   "source": []
  },
  {
   "cell_type": "code",
   "execution_count": null,
   "metadata": {},
   "outputs": [],
   "source": []
  }
 ],
 "metadata": {
  "kernelspec": {
   "display_name": "Python 3",
   "language": "python",
   "name": "python3"
  },
  "language_info": {
   "codemirror_mode": {
    "name": "ipython",
    "version": 3
   },
   "file_extension": ".py",
   "mimetype": "text/x-python",
   "name": "python",
   "nbconvert_exporter": "python",
   "pygments_lexer": "ipython3",
   "version": "3.8.3"
  }
 },
 "nbformat": 4,
 "nbformat_minor": 4
}
