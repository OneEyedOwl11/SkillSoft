{
 "cells": [
  {
   "cell_type": "code",
   "execution_count": 4,
   "metadata": {},
   "outputs": [
    {
     "name": "stdout",
     "output_type": "stream",
     "text": [
      "Enter a dogs age in human years: 5\n",
      "The Dog age in human years is 33\n"
     ]
    }
   ],
   "source": [
    "human_age = int(input('Enter a dogs age in human years: '))\n",
    "\n",
    "if human_age < 0:\n",
    "    print('Age must be a positive number')\n",
    "    exit()\n",
    "    \n",
    "if human_age <= 2:\n",
    "    dog_age = human_age * 10.5\n",
    "    \n",
    "else:\n",
    "    dog_age = 21 + (human_age - 2)*4\n",
    "    \n",
    "print('The Dog age in human years is', dog_age)"
   ]
  },
  {
   "cell_type": "code",
   "execution_count": 5,
   "metadata": {},
   "outputs": [
    {
     "name": "stdout",
     "output_type": "stream",
     "text": [
      "Enter a letter of the aphabet: p\n",
      "p is a consonant\n"
     ]
    }
   ],
   "source": [
    "letter = input('Enter a letter of the aphabet: ')\n",
    "letter = letter.lower()\n",
    "\n",
    "if letter in ('a','e','i','o','u'):\n",
    "    \n",
    "    print('%s is a vowel' %letter)\n",
    "    \n",
    "elif letter == 'y':\n",
    "    print('Y is ambiguous. it depends on where it is used')\n",
    "    \n",
    "else:\n",
    "    print('%s is a consonant' %letter)"
   ]
  },
  {
   "cell_type": "code",
   "execution_count": 6,
   "metadata": {},
   "outputs": [
    {
     "name": "stdout",
     "output_type": "stream",
     "text": [
      "Enter the name of the month: April\n",
      "No. of days is 30\n"
     ]
    }
   ],
   "source": [
    "month_name = input('Enter the name of the month: ')\n",
    "\n",
    "if month_name == \"February\":\n",
    "    print('No. of days is 28/29')\n",
    "\n",
    "elif month_name in ('April','June','September','November'):\n",
    "    print('No. of days is 30')\n",
    "    \n",
    "elif month_name in ('January','March','May','July','August','Ovtober','December'):\n",
    "    print(\"No. of days is 31\")\n",
    "    \n",
    "else:\n",
    "    print('Give a correct month name')"
   ]
  },
  {
   "cell_type": "code",
   "execution_count": 9,
   "metadata": {},
   "outputs": [
    {
     "name": "stdout",
     "output_type": "stream",
     "text": [
      "a: 4\n",
      "b: 3\n",
      "c: 2\n",
      "Scalene triangel\n"
     ]
    }
   ],
   "source": [
    "a = int(input('a: '))\n",
    "b = int(input('b: '))\n",
    "c = int(input('c: '))\n",
    "\n",
    "if a == b == c:\n",
    "    print('Equilateral Triangle')\n",
    "    \n",
    "elif a == b or c == b or a == c:\n",
    "    print('Isosceles Triangle')\n",
    "    \n",
    "else:\n",
    "    print('Scalene Triangle')"
   ]
  },
  {
   "cell_type": "code",
   "execution_count": 10,
   "metadata": {},
   "outputs": [
    {
     "name": "stdout",
     "output_type": "stream",
     "text": [
      "enter the string: racecar\n",
      "the string is a palindrome\n"
     ]
    }
   ],
   "source": [
    "str_value = input(\"enter the string: \")\n",
    "\n",
    "reversed_str = str_value[::-1]\n",
    "\n",
    "if(str_value == reversed_str):\n",
    "    print('the string is a palindrome')\n",
    "    \n",
    "else:\n",
    "    print('it is not a palindrome')"
   ]
  },
  {
   "cell_type": "code",
   "execution_count": 11,
   "metadata": {},
   "outputs": [
    {
     "name": "stdout",
     "output_type": "stream",
     "text": [
      "how many days are there is a leap year?366\n",
      "you entered 366\n",
      "you have cleared the first level.\n",
      "\n",
      "Which month has an extra day in a leap year?february\n",
      "You have cleared the test\n"
     ]
    }
   ],
   "source": [
    "ans = int(input('how many days are there is a leap year?'))\n",
    "print('you entered', ans)\n",
    "\n",
    "if ans == 366:\n",
    "    print('you have cleared the first level.')\n",
    "    \n",
    "    ans = input('\\nWhich month has an extra day in a leap year?').lower()\n",
    "    if ans == 'february':\n",
    "        print('You have cleared the test')\n",
    "        \n",
    "    else:\n",
    "        print(\"You have failed the test\")\n",
    "else:\n",
    "    print('The answer is wrong please try again.')"
   ]
  },
  {
   "cell_type": "code",
   "execution_count": 12,
   "metadata": {},
   "outputs": [
    {
     "name": "stdout",
     "output_type": "stream",
     "text": [
      "Enter a score: 85\n",
      "B grade\n"
     ]
    }
   ],
   "source": [
    "score = int(input('Enter a score: '))\n",
    "\n",
    "if score >= 90:\n",
    "    print('A grade')\n",
    "    \n",
    "elif score >= 80:\n",
    "    print('B grade')\n",
    "        \n",
    "elif score >= 70:\n",
    "    print('C grade')\n",
    "        \n",
    "elif score >= 50:\n",
    "    print('D grade')\n",
    "        \n",
    "else:\n",
    "    print('Fail')"
   ]
  },
  {
   "cell_type": "code",
   "execution_count": 15,
   "metadata": {},
   "outputs": [
    {
     "name": "stdout",
     "output_type": "stream",
     "text": [
      "Enter annual salary: 6000\n",
      "Enter years of service: 10\n",
      "Bonus us:  900.0\n"
     ]
    }
   ],
   "source": [
    "salary = int(input('Enter annual salary: '))\n",
    "\n",
    "years_service = int(input('Enter years of service: '))\n",
    "\n",
    "if years_service >= 10:\n",
    "    print('Bonus us: ', .15* salary)\n",
    "    \n",
    "elif years_service >= 5 and years_service < 10:\n",
    "    print('Bonus is: ', .05* salary)\n",
    "    \n",
    "else:\n",
    "    print('no bonus')"
   ]
  },
  {
   "cell_type": "code",
   "execution_count": null,
   "metadata": {},
   "outputs": [],
   "source": []
  },
  {
   "cell_type": "code",
   "execution_count": null,
   "metadata": {},
   "outputs": [],
   "source": []
  },
  {
   "cell_type": "code",
   "execution_count": null,
   "metadata": {},
   "outputs": [],
   "source": []
  },
  {
   "cell_type": "code",
   "execution_count": null,
   "metadata": {},
   "outputs": [],
   "source": []
  },
  {
   "cell_type": "code",
   "execution_count": null,
   "metadata": {},
   "outputs": [],
   "source": []
  },
  {
   "cell_type": "code",
   "execution_count": null,
   "metadata": {},
   "outputs": [],
   "source": []
  },
  {
   "cell_type": "code",
   "execution_count": null,
   "metadata": {},
   "outputs": [],
   "source": []
  },
  {
   "cell_type": "code",
   "execution_count": null,
   "metadata": {},
   "outputs": [],
   "source": []
  },
  {
   "cell_type": "code",
   "execution_count": null,
   "metadata": {},
   "outputs": [],
   "source": []
  },
  {
   "cell_type": "code",
   "execution_count": null,
   "metadata": {},
   "outputs": [],
   "source": []
  },
  {
   "cell_type": "code",
   "execution_count": null,
   "metadata": {},
   "outputs": [],
   "source": []
  },
  {
   "cell_type": "code",
   "execution_count": null,
   "metadata": {},
   "outputs": [],
   "source": []
  },
  {
   "cell_type": "code",
   "execution_count": null,
   "metadata": {},
   "outputs": [],
   "source": []
  },
  {
   "cell_type": "code",
   "execution_count": null,
   "metadata": {},
   "outputs": [],
   "source": []
  },
  {
   "cell_type": "code",
   "execution_count": null,
   "metadata": {},
   "outputs": [],
   "source": []
  },
  {
   "cell_type": "code",
   "execution_count": null,
   "metadata": {},
   "outputs": [],
   "source": []
  },
  {
   "cell_type": "code",
   "execution_count": null,
   "metadata": {},
   "outputs": [],
   "source": []
  },
  {
   "cell_type": "code",
   "execution_count": null,
   "metadata": {},
   "outputs": [],
   "source": []
  },
  {
   "cell_type": "code",
   "execution_count": null,
   "metadata": {},
   "outputs": [],
   "source": []
  },
  {
   "cell_type": "code",
   "execution_count": null,
   "metadata": {},
   "outputs": [],
   "source": []
  },
  {
   "cell_type": "code",
   "execution_count": null,
   "metadata": {},
   "outputs": [],
   "source": []
  },
  {
   "cell_type": "code",
   "execution_count": null,
   "metadata": {},
   "outputs": [],
   "source": []
  },
  {
   "cell_type": "code",
   "execution_count": null,
   "metadata": {},
   "outputs": [],
   "source": []
  },
  {
   "cell_type": "code",
   "execution_count": null,
   "metadata": {},
   "outputs": [],
   "source": []
  },
  {
   "cell_type": "code",
   "execution_count": null,
   "metadata": {},
   "outputs": [],
   "source": []
  },
  {
   "cell_type": "code",
   "execution_count": null,
   "metadata": {},
   "outputs": [],
   "source": []
  },
  {
   "cell_type": "code",
   "execution_count": null,
   "metadata": {},
   "outputs": [],
   "source": []
  },
  {
   "cell_type": "code",
   "execution_count": null,
   "metadata": {},
   "outputs": [],
   "source": []
  },
  {
   "cell_type": "code",
   "execution_count": null,
   "metadata": {},
   "outputs": [],
   "source": []
  },
  {
   "cell_type": "code",
   "execution_count": null,
   "metadata": {},
   "outputs": [],
   "source": []
  },
  {
   "cell_type": "code",
   "execution_count": null,
   "metadata": {},
   "outputs": [],
   "source": []
  },
  {
   "cell_type": "code",
   "execution_count": null,
   "metadata": {},
   "outputs": [],
   "source": []
  },
  {
   "cell_type": "code",
   "execution_count": null,
   "metadata": {},
   "outputs": [],
   "source": []
  },
  {
   "cell_type": "code",
   "execution_count": null,
   "metadata": {},
   "outputs": [],
   "source": []
  },
  {
   "cell_type": "code",
   "execution_count": null,
   "metadata": {},
   "outputs": [],
   "source": []
  },
  {
   "cell_type": "code",
   "execution_count": null,
   "metadata": {},
   "outputs": [],
   "source": []
  },
  {
   "cell_type": "code",
   "execution_count": null,
   "metadata": {},
   "outputs": [],
   "source": []
  },
  {
   "cell_type": "code",
   "execution_count": null,
   "metadata": {},
   "outputs": [],
   "source": []
  },
  {
   "cell_type": "code",
   "execution_count": null,
   "metadata": {},
   "outputs": [],
   "source": []
  },
  {
   "cell_type": "code",
   "execution_count": null,
   "metadata": {},
   "outputs": [],
   "source": []
  },
  {
   "cell_type": "code",
   "execution_count": null,
   "metadata": {},
   "outputs": [],
   "source": []
  },
  {
   "cell_type": "code",
   "execution_count": null,
   "metadata": {},
   "outputs": [],
   "source": []
  },
  {
   "cell_type": "code",
   "execution_count": null,
   "metadata": {},
   "outputs": [],
   "source": []
  },
  {
   "cell_type": "code",
   "execution_count": null,
   "metadata": {},
   "outputs": [],
   "source": []
  },
  {
   "cell_type": "code",
   "execution_count": null,
   "metadata": {},
   "outputs": [],
   "source": []
  }
 ],
 "metadata": {
  "kernelspec": {
   "display_name": "Python 3",
   "language": "python",
   "name": "python3"
  },
  "language_info": {
   "codemirror_mode": {
    "name": "ipython",
    "version": 3
   },
   "file_extension": ".py",
   "mimetype": "text/x-python",
   "name": "python",
   "nbconvert_exporter": "python",
   "pygments_lexer": "ipython3",
   "version": "3.8.3"
  }
 },
 "nbformat": 4,
 "nbformat_minor": 4
}
