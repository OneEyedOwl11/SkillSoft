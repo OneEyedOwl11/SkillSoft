{
 "cells": [
  {
   "cell_type": "code",
   "execution_count": 1,
   "metadata": {},
   "outputs": [
    {
     "name": "stdout",
     "output_type": "stream",
     "text": [
      "{1: 1, 2: 4, 3: 9}\n"
     ]
    }
   ],
   "source": [
    "num_dict = dict()\n",
    "\n",
    "num_dict[1] = 1\n",
    "num_dict[2] = 2 ** 2\n",
    "num_dict[3] = 3 ** 2\n",
    "\n",
    "print(num_dict)"
   ]
  },
  {
   "cell_type": "code",
   "execution_count": 2,
   "metadata": {},
   "outputs": [
    {
     "name": "stdout",
     "output_type": "stream",
     "text": [
      "enter first string: hello\n",
      "Enter second string: python\n",
      "\n",
      "Common letters:  ['h', 'o']\n"
     ]
    }
   ],
   "source": [
    "string_1 = input('enter first string: ')\n",
    "\n",
    "string_2 = input('Enter second string: ')\n",
    "\n",
    "set_1 = set(string_1)\n",
    "set_2 = set(string_2)\n",
    "\n",
    "common_char = set_1.intersection(set_2)\n",
    "\n",
    "print('\\nCommon letters: ', list(common_char))"
   ]
  },
  {
   "cell_type": "code",
   "execution_count": 3,
   "metadata": {},
   "outputs": [
    {
     "name": "stdout",
     "output_type": "stream",
     "text": [
      "Numbers before slicing: [10, 11, 12, 13, 14, 15, 16, 17, 18, 19, 20, 21]\n",
      "len of num before slicing:  12\n",
      "\n",
      "First half: [10, 11, 12, 13, 14, 15]\n",
      "Second half: [16, 17, 18, 19, 20, 21]\n"
     ]
    }
   ],
   "source": [
    "list_num = [10,11,12,13,14,15,16,17,18,19,20,21]\n",
    "\n",
    "len_of_list = len(list_num)\n",
    "\n",
    "print('Numbers before slicing: %s' %list_num)\n",
    "print('len of num before slicing: ', len_of_list )\n",
    "\n",
    "half = int(len_of_list/2)\n",
    "\n",
    "list_num1 = list_num[:half]\n",
    "list_num2 = list_num[half:]\n",
    "\n",
    "print('\\nFirst half: %s' %list_num1)\n",
    "print('Second half: %s' %list_num2)"
   ]
  },
  {
   "cell_type": "code",
   "execution_count": 5,
   "metadata": {},
   "outputs": [
    {
     "name": "stdout",
     "output_type": "stream",
     "text": [
      "Enter a nnumber:-5\n",
      "Negative Number\n"
     ]
    }
   ],
   "source": [
    "num = float(input('Enter a nnumber:'))\n",
    "\n",
    "if num >= 0:\n",
    "    \n",
    "    if num == 0:\n",
    "        print('zero')\n",
    "        \n",
    "    else:\n",
    "        print('Positive number')\n",
    "        \n",
    "else: \n",
    "    print('Negative Number')"
   ]
  },
  {
   "cell_type": "code",
   "execution_count": 8,
   "metadata": {},
   "outputs": [
    {
     "name": "stdout",
     "output_type": "stream",
     "text": [
      "type of variable is Complex\n"
     ]
    }
   ],
   "source": [
    "var = 1+2j\n",
    "\n",
    "if (type(var) == int):\n",
    "    print('type of variable is integer')\n",
    "    \n",
    "elif (type(var) == float):\n",
    "    print('type of variable is Float')\n",
    "    \n",
    "elif (type(var) == complex):\n",
    "    print('type of variable is Complex')\n",
    "    \n",
    "else:\n",
    "    print('type of variable is Unknown')"
   ]
  },
  {
   "cell_type": "code",
   "execution_count": 10,
   "metadata": {},
   "outputs": [
    {
     "name": "stdout",
     "output_type": "stream",
     "text": [
      "Enter a number: 5\n",
      "5 is odd\n"
     ]
    }
   ],
   "source": [
    "num = int(input('Enter a number: '))\n",
    "\n",
    "if (num % 2) == 0:\n",
    "    print('%d is even' % num)\n",
    "    \n",
    "else: \n",
    "    print('%d is odd' % num)"
   ]
  },
  {
   "cell_type": "code",
   "execution_count": 15,
   "metadata": {},
   "outputs": [
    {
     "name": "stdout",
     "output_type": "stream",
     "text": [
      "Enter the first number: 28\n",
      "Operator: /\n",
      "Enter the second number: 5\n",
      "Division:  5.6\n"
     ]
    }
   ],
   "source": [
    "num1= float(input('Enter the first number: '))\n",
    "\n",
    "operator = input('Operator: ')\n",
    "\n",
    "num2 = float(input('Enter the second number: '))\n",
    "\n",
    "if operator == \"+\":\n",
    "    print(\"Addition: \", num1 + num2)\n",
    "    \n",
    "elif operator == \"-\":\n",
    "    print(\"Subtraction: \", num1 - num2)\n",
    "    \n",
    "elif operator == \"*\":\n",
    "    print(\"Multiplication: \", num1 * num2)\n",
    "    \n",
    "elif operator == \"/\":\n",
    "    print(\"Division: \", num1 / num2)\n",
    "    \n",
    "else:\n",
    "    print('This is not a valid operator')"
   ]
  },
  {
   "cell_type": "code",
   "execution_count": 17,
   "metadata": {},
   "outputs": [
    {
     "name": "stdout",
     "output_type": "stream",
     "text": [
      "enter a anumber: 35\n",
      "This number is divisible by both 5 and 7\n"
     ]
    }
   ],
   "source": [
    "num_1 = int(input(\"enter a anumber: \"))\n",
    "\n",
    "if num_1 % 5 == 0 and num_1 % 7 == 0:\n",
    "    print(\"This number is divisible by both 5 and 7\")\n",
    "    \n",
    "elif num_1 % 5 == 0:\n",
    "    print(\"This number is divisible by 5\")\n",
    "    \n",
    "elif num_1 % 7 == 0:\n",
    "    print(\"This number is divisible by 7\")\n",
    "    \n",
    "else:\n",
    "    print(\"This number is not divisible by 5 or 7\")"
   ]
  },
  {
   "cell_type": "code",
   "execution_count": null,
   "metadata": {},
   "outputs": [],
   "source": []
  },
  {
   "cell_type": "code",
   "execution_count": null,
   "metadata": {},
   "outputs": [],
   "source": []
  },
  {
   "cell_type": "code",
   "execution_count": null,
   "metadata": {},
   "outputs": [],
   "source": []
  },
  {
   "cell_type": "code",
   "execution_count": null,
   "metadata": {},
   "outputs": [],
   "source": []
  },
  {
   "cell_type": "code",
   "execution_count": null,
   "metadata": {},
   "outputs": [],
   "source": []
  },
  {
   "cell_type": "code",
   "execution_count": null,
   "metadata": {},
   "outputs": [],
   "source": []
  },
  {
   "cell_type": "code",
   "execution_count": null,
   "metadata": {},
   "outputs": [],
   "source": []
  },
  {
   "cell_type": "code",
   "execution_count": null,
   "metadata": {},
   "outputs": [],
   "source": []
  },
  {
   "cell_type": "code",
   "execution_count": null,
   "metadata": {},
   "outputs": [],
   "source": []
  },
  {
   "cell_type": "code",
   "execution_count": null,
   "metadata": {},
   "outputs": [],
   "source": []
  },
  {
   "cell_type": "code",
   "execution_count": null,
   "metadata": {},
   "outputs": [],
   "source": []
  },
  {
   "cell_type": "code",
   "execution_count": null,
   "metadata": {},
   "outputs": [],
   "source": []
  },
  {
   "cell_type": "code",
   "execution_count": null,
   "metadata": {},
   "outputs": [],
   "source": []
  },
  {
   "cell_type": "code",
   "execution_count": null,
   "metadata": {},
   "outputs": [],
   "source": []
  }
 ],
 "metadata": {
  "kernelspec": {
   "display_name": "Python 3",
   "language": "python",
   "name": "python3"
  },
  "language_info": {
   "codemirror_mode": {
    "name": "ipython",
    "version": 3
   },
   "file_extension": ".py",
   "mimetype": "text/x-python",
   "name": "python",
   "nbconvert_exporter": "python",
   "pygments_lexer": "ipython3",
   "version": "3.8.3"
  }
 },
 "nbformat": 4,
 "nbformat_minor": 4
}
