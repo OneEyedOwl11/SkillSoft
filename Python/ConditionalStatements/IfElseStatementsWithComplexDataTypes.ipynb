{
 "cells": [
  {
   "cell_type": "code",
   "execution_count": 1,
   "metadata": {},
   "outputs": [],
   "source": [
    "fruit_list = ['apple','orange','grape','banana','avocado']"
   ]
  },
  {
   "cell_type": "code",
   "execution_count": 2,
   "metadata": {},
   "outputs": [
    {
     "name": "stdout",
     "output_type": "stream",
     "text": [
      "grape is in the list\n"
     ]
    }
   ],
   "source": [
    "if \"grape\" in fruit_list:\n",
    "    print('grape is in the list')\n",
    "    \n",
    "else:\n",
    "    print('grape is not in the list')"
   ]
  },
  {
   "cell_type": "code",
   "execution_count": 4,
   "metadata": {},
   "outputs": [
    {
     "name": "stdout",
     "output_type": "stream",
     "text": [
      "orange is in the list\n"
     ]
    }
   ],
   "source": [
    "if \"strawberry\" in fruit_list:\n",
    "    print('strawberry is in the list')\n",
    "    \n",
    "elif \"orange\" in fruit_list:\n",
    "    print('orange is in the list')\n",
    "    \n",
    "else:\n",
    "    print('both orange and strawberry are not in the list')"
   ]
  },
  {
   "cell_type": "code",
   "execution_count": 7,
   "metadata": {},
   "outputs": [
    {
     "name": "stdout",
     "output_type": "stream",
     "text": [
      "true\n"
     ]
    }
   ],
   "source": [
    "if fruit_list[1] == 'orange':\n",
    "    print('true')\n",
    "    \n",
    "else: \n",
    "    print('false')"
   ]
  },
  {
   "cell_type": "code",
   "execution_count": 8,
   "metadata": {},
   "outputs": [
    {
     "name": "stdout",
     "output_type": "stream",
     "text": [
      "yes, avocado is at the forth index\n",
      "replacing avocado with strawberry at the forth index\n",
      "['apple', 'orange', 'grape', 'banana', 'strawberry']\n"
     ]
    }
   ],
   "source": [
    "if fruit_list[4] == \"avocado\":\n",
    "    \n",
    "    print('yes, avocado is at the forth index')\n",
    "    print('replacing avocado with strawberry at the forth index')\n",
    "    \n",
    "    fruit_list[4] = 'strawberry'\n",
    "    print(fruit_list)\n",
    "    \n",
    "else:\n",
    "    print('avocado is not at the forth index')"
   ]
  },
  {
   "cell_type": "code",
   "execution_count": 9,
   "metadata": {},
   "outputs": [],
   "source": [
    "car_tuple = {'Toyota Camry','Honda Accord','Honda Civic','Toyota Corolla'}"
   ]
  },
  {
   "cell_type": "code",
   "execution_count": 11,
   "metadata": {},
   "outputs": [
    {
     "name": "stdout",
     "output_type": "stream",
     "text": [
      "Honda Accord is in tuple\n"
     ]
    }
   ],
   "source": [
    "if \"Honda Accord\" in car_tuple:\n",
    "    print(\"Honda Accord is in tuple\")\n",
    "    \n",
    "else:\n",
    "    print(\"Honda Accord is not in tuple\")"
   ]
  },
  {
   "cell_type": "code",
   "execution_count": 12,
   "metadata": {},
   "outputs": [
    {
     "name": "stdout",
     "output_type": "stream",
     "text": [
      "suzuki is not in tuple\n"
     ]
    }
   ],
   "source": [
    "if \"suzuki\" in car_tuple:\n",
    "    print(\"suzuki is in tuple\")\n",
    "    \n",
    "else:\n",
    "    print(\"suzuki is not in tuple\")"
   ]
  },
  {
   "cell_type": "code",
   "execution_count": 14,
   "metadata": {},
   "outputs": [
    {
     "name": "stdout",
     "output_type": "stream",
     "text": [
      "At least 1 is car\n"
     ]
    }
   ],
   "source": [
    "if \"Honda Accord\" in car_tuple and \"Ducati Monster\" in car_tuple:\n",
    "    print(\"Honda Accord and ducati are both cars\")\n",
    "    \n",
    "else:\n",
    "    print(\"At least 1 is car\")"
   ]
  },
  {
   "cell_type": "code",
   "execution_count": 15,
   "metadata": {},
   "outputs": [
    {
     "name": "stdout",
     "output_type": "stream",
     "text": [
      "At least one is in the list\n"
     ]
    }
   ],
   "source": [
    "if \"Honda Accord\" in car_tuple or \"Ducati Monster\" in car_tuple:\n",
    "    print(\"At least one is in the list\")\n",
    "    \n",
    "else:\n",
    "    print(\"none are in least\")"
   ]
  },
  {
   "cell_type": "code",
   "execution_count": 16,
   "metadata": {},
   "outputs": [],
   "source": [
    "salary = {'1':25000,\n",
    "         '2':45000,\n",
    "         '3':35000,\n",
    "         '4':23000,\n",
    "         '5':77000}"
   ]
  },
  {
   "cell_type": "code",
   "execution_count": 17,
   "metadata": {},
   "outputs": [
    {
     "data": {
      "text/plain": [
       "{'1': 25000, '2': 45000, '3': 35000, '4': 23000, '5': 77000}"
      ]
     },
     "execution_count": 17,
     "metadata": {},
     "output_type": "execute_result"
    }
   ],
   "source": [
    "salary"
   ]
  },
  {
   "cell_type": "code",
   "execution_count": 18,
   "metadata": {},
   "outputs": [
    {
     "name": "stdout",
     "output_type": "stream",
     "text": [
      "1 is in dictionary\n"
     ]
    }
   ],
   "source": [
    "if '1' in salary:\n",
    "    print('1 is in dictionary')\n",
    "else: \n",
    "    print('not in dictionary')"
   ]
  },
  {
   "cell_type": "code",
   "execution_count": 19,
   "metadata": {},
   "outputs": [
    {
     "name": "stdout",
     "output_type": "stream",
     "text": [
      "not in dictionary\n"
     ]
    }
   ],
   "source": [
    "if '6' in salary:\n",
    "    print(' is in dictionary')\n",
    "else: \n",
    "    print('not in dictionary')"
   ]
  },
  {
   "cell_type": "code",
   "execution_count": 20,
   "metadata": {},
   "outputs": [
    {
     "name": "stdout",
     "output_type": "stream",
     "text": [
      "6 annual income is 31000\n"
     ]
    }
   ],
   "source": [
    "if '6' in salary:\n",
    "    print(' is in dictionary')\n",
    "else: \n",
    "    salary['6'] = 31000\n",
    "    print('6 annual income is %s'%salary['6'])"
   ]
  },
  {
   "cell_type": "code",
   "execution_count": 21,
   "metadata": {},
   "outputs": [
    {
     "data": {
      "text/plain": [
       "{'1': 25000, '2': 45000, '3': 35000, '4': 23000, '5': 77000, '6': 31000}"
      ]
     },
     "execution_count": 21,
     "metadata": {},
     "output_type": "execute_result"
    }
   ],
   "source": [
    "salary"
   ]
  },
  {
   "cell_type": "code",
   "execution_count": 22,
   "metadata": {},
   "outputs": [],
   "source": [
    "age_details = {'Lisa': 25,'Jason':30,'Cooper':29,'Sarah':22}"
   ]
  },
  {
   "cell_type": "code",
   "execution_count": 23,
   "metadata": {},
   "outputs": [
    {
     "name": "stdout",
     "output_type": "stream",
     "text": [
      "Jason is older than Lisa\n",
      "Jason is older than cooper\n",
      "Jason is the oldest person in dict\n"
     ]
    }
   ],
   "source": [
    "if age_details['Lisa'] < age_details['Jason']:\n",
    "    \n",
    "    print('Jason is older than Lisa')\n",
    "    \n",
    "    if age_details[\"Jason\"] > age_details['Cooper']:\n",
    "        print('Jason is older than cooper')\n",
    "        \n",
    "        if age_details['Cooper'] < age_details['Sarah']:\n",
    "            print('cooper is younger than sarah')\n",
    "        elif age_details['Cooper'] > age_details['Sarah']:\n",
    "            print('Jason is the oldest person in dict')\n",
    "else:\n",
    "    print('Jason is not the oldest person in dict')"
   ]
  },
  {
   "cell_type": "code",
   "execution_count": 24,
   "metadata": {},
   "outputs": [],
   "source": [
    "details = [['Jane','Amanda','Emma'],\n",
    "          [35,40,50],\n",
    "          [20000, 50000, 40000]]"
   ]
  },
  {
   "cell_type": "code",
   "execution_count": 27,
   "metadata": {},
   "outputs": [
    {
     "name": "stdout",
     "output_type": "stream",
     "text": [
      "Amanda  has the highest salary and her age is greater than 30\n"
     ]
    }
   ],
   "source": [
    "max_sal = max(details[2])\n",
    "\n",
    "if (details[2][1] == max_sal):\n",
    "    \n",
    "    if(details[1][1] > 30):\n",
    "        print(details[0][1],' has the highest salary and her age is greater than 30')\n",
    "        \n",
    "    elif(details[1][1]==30):\n",
    "        print(details[0][1], 'has the highest salay and she is 30 years old')\n",
    "        \n",
    "    else:\n",
    "        print('Amanda has the highest salary and she is less than 30 yearsold')\n",
    "        \n",
    "else: \n",
    "    print('Someone else has the highest salary')"
   ]
  },
  {
   "cell_type": "code",
   "execution_count": null,
   "metadata": {},
   "outputs": [],
   "source": []
  }
 ],
 "metadata": {
  "kernelspec": {
   "display_name": "Python 3",
   "language": "python",
   "name": "python3"
  },
  "language_info": {
   "codemirror_mode": {
    "name": "ipython",
    "version": 3
   },
   "file_extension": ".py",
   "mimetype": "text/x-python",
   "name": "python",
   "nbconvert_exporter": "python",
   "pygments_lexer": "ipython3",
   "version": "3.8.6"
  }
 },
 "nbformat": 4,
 "nbformat_minor": 4
}
