{
 "cells": [
  {
   "cell_type": "code",
   "execution_count": 1,
   "metadata": {},
   "outputs": [],
   "source": [
    "bike_price = 20000"
   ]
  },
  {
   "cell_type": "code",
   "execution_count": 2,
   "metadata": {},
   "outputs": [
    {
     "name": "stdout",
     "output_type": "stream",
     "text": [
      "it's an expensive bike\n"
     ]
    }
   ],
   "source": [
    "if bike_price < 6000:\n",
    "    print('it\\'s a cheap bike')\n",
    "\n",
    "elif bike_price >= 6000 and bike_price < 10000:\n",
    "    print('it\\'s a moderately priced bike')\n",
    "    \n",
    "elif bike_price >= 10000 and bike_price < 15000:\n",
    "    print('it\\'s a somewhat expensive bike')\n",
    "    \n",
    "else: \n",
    "    print('it\\'s an expensive bike')"
   ]
  },
  {
   "cell_type": "code",
   "execution_count": 3,
   "metadata": {},
   "outputs": [
    {
     "name": "stdout",
     "output_type": "stream",
     "text": [
      "it's an expensive bike\n"
     ]
    }
   ],
   "source": [
    "if bike_price < 6000:\n",
    "    print('it\\'s a cheap bike')\n",
    "\n",
    "elif bike_price >= 6000 and bike_price < 10000:\n",
    "    print('it\\'s a moderately priced bike')\n",
    "    \n",
    "elif bike_price >= 10000 and bike_price < 15000:\n",
    "    print('it\\'s a somewhat expensive bike')\n",
    "    \n",
    "elif bike_price >= 20000:\n",
    "    print('it\\'s an expensive bike')"
   ]
  },
  {
   "cell_type": "code",
   "execution_count": 4,
   "metadata": {},
   "outputs": [],
   "source": [
    "x = 25\n",
    "y = 35\n",
    "z = 45"
   ]
  },
  {
   "cell_type": "code",
   "execution_count": 5,
   "metadata": {},
   "outputs": [
    {
     "name": "stdout",
     "output_type": "stream",
     "text": [
      "the first condition is true\n",
      "Both conditions are true\n"
     ]
    }
   ],
   "source": [
    "if x < y:\n",
    "    print('the first condition is true')\n",
    "    \n",
    "    if x < z:\n",
    "        print(\"Both conditions are true\")\n",
    "        \n",
    "    else: \n",
    "        print('the first condition is true, the second is false')"
   ]
  },
  {
   "cell_type": "code",
   "execution_count": 6,
   "metadata": {},
   "outputs": [
    {
     "name": "stdout",
     "output_type": "stream",
     "text": [
      "the first condition is false\n"
     ]
    }
   ],
   "source": [
    "x = 55\n",
    "\n",
    "if x < y:\n",
    "    print('the first condition is true')\n",
    "    \n",
    "    if x < z:\n",
    "        print(\"Both conditions are true\")\n",
    "        \n",
    "    else: \n",
    "        print('the first condition is true, the second is false')\n",
    "else: \n",
    "    print('the first condition is false')"
   ]
  },
  {
   "cell_type": "code",
   "execution_count": 9,
   "metadata": {},
   "outputs": [
    {
     "name": "stdout",
     "output_type": "stream",
     "text": [
      "Enter your age: 21\n",
      "you are too old for this camping trip!\n"
     ]
    }
   ],
   "source": [
    "age = int(input(\"Enter your age: \"))\n",
    "\n",
    "if age >= 15:\n",
    "    if age > 20:\n",
    "        print(\"you are too old for this camping trip!\")\n",
    "        \n",
    "    else: \n",
    "        print('You are the right age for this trip!')\n",
    "else: \n",
    "    print('you are too young for this trip')"
   ]
  },
  {
   "cell_type": "code",
   "execution_count": 15,
   "metadata": {},
   "outputs": [
    {
     "name": "stdout",
     "output_type": "stream",
     "text": [
      "What is the amount of your online shopping? 50\n",
      "USA or Canada? Canada\n",
      "Shipping cost is $12\n"
     ]
    }
   ],
   "source": [
    "total = int(input(\"What is the amount of your online shopping? \"))\n",
    "country = input(\"USA or Canada? \")\n",
    "\n",
    "if country == \"USA\":\n",
    "    if total <= 50:\n",
    "        print(\"Shipping cost is $9\")\n",
    "        \n",
    "    elif total <= 100:\n",
    "        print(\"Shipping cost is $6\")\n",
    "    \n",
    "    else:\n",
    "        print('Shipping is free')\n",
    "    \n",
    "if country == \"Canada\":\n",
    "    if total <= 50:\n",
    "        print(\"Shipping cost is $12\")\n",
    "        \n",
    "    elif total <= 50:\n",
    "        print(\"Shipping cost is $8\")\n",
    "        \n",
    "    else:\n",
    "        print('Shipping is FREE')\n",
    "        "
   ]
  },
  {
   "cell_type": "code",
   "execution_count": null,
   "metadata": {},
   "outputs": [],
   "source": []
  },
  {
   "cell_type": "code",
   "execution_count": null,
   "metadata": {},
   "outputs": [],
   "source": []
  },
  {
   "cell_type": "code",
   "execution_count": null,
   "metadata": {},
   "outputs": [],
   "source": []
  },
  {
   "cell_type": "code",
   "execution_count": null,
   "metadata": {},
   "outputs": [],
   "source": []
  },
  {
   "cell_type": "code",
   "execution_count": null,
   "metadata": {},
   "outputs": [],
   "source": []
  },
  {
   "cell_type": "code",
   "execution_count": null,
   "metadata": {},
   "outputs": [],
   "source": []
  },
  {
   "cell_type": "code",
   "execution_count": null,
   "metadata": {},
   "outputs": [],
   "source": []
  },
  {
   "cell_type": "code",
   "execution_count": null,
   "metadata": {},
   "outputs": [],
   "source": []
  },
  {
   "cell_type": "code",
   "execution_count": null,
   "metadata": {},
   "outputs": [],
   "source": []
  }
 ],
 "metadata": {
  "kernelspec": {
   "display_name": "Python 3",
   "language": "python",
   "name": "python3"
  },
  "language_info": {
   "codemirror_mode": {
    "name": "ipython",
    "version": 3
   },
   "file_extension": ".py",
   "mimetype": "text/x-python",
   "name": "python",
   "nbconvert_exporter": "python",
   "pygments_lexer": "ipython3",
   "version": "3.8.6"
  }
 },
 "nbformat": 4,
 "nbformat_minor": 4
}
