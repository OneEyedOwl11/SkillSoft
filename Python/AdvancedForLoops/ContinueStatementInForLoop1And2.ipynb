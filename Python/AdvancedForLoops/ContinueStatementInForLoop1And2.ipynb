{
 "cells": [
  {
   "cell_type": "code",
   "execution_count": 1,
   "metadata": {},
   "outputs": [
    {
     "name": "stdout",
     "output_type": "stream",
     "text": [
      "s\n",
      "t\n",
      "r\n",
      "n\n",
      "g\n",
      "the end\n"
     ]
    }
   ],
   "source": [
    "for letter in \"string\":\n",
    "    if letter == 'i':\n",
    "        continue\n",
    "        \n",
    "    print(letter)\n",
    "\n",
    "print('the end')"
   ]
  },
  {
   "cell_type": "code",
   "execution_count": 2,
   "metadata": {},
   "outputs": [
    {
     "name": "stdout",
     "output_type": "stream",
     "text": [
      "S\n",
      "t\n",
      "u\n",
      "d\n",
      "n\n",
      "t\n"
     ]
    }
   ],
   "source": [
    "my_string = 'Students'\n",
    "\n",
    "for letter in my_string:\n",
    "    if(letter == 'e' or letter == 's'):\n",
    "        continue\n",
    "    else:\n",
    "        print(letter)"
   ]
  },
  {
   "cell_type": "code",
   "execution_count": 3,
   "metadata": {},
   "outputs": [
    {
     "name": "stdout",
     "output_type": "stream",
     "text": [
      "is 2 is an even number? \n",
      "Yes\n",
      "is 4 is an even number? \n",
      "Yes\n",
      "is 6 is an even number? \n",
      "Yes\n",
      "is 8 is an even number? \n",
      "Yes\n"
     ]
    }
   ],
   "source": [
    "for i in range (1,10):\n",
    "    if i % 2 == 0:\n",
    "        print('is %s is an even number? ' %i)\n",
    "    else:\n",
    "        continue\n",
    "    print('Yes')"
   ]
  },
  {
   "cell_type": "code",
   "execution_count": 9,
   "metadata": {},
   "outputs": [
    {
     "name": "stdout",
     "output_type": "stream",
     "text": [
      "1\n",
      "found an even number:  2\n",
      "3\n",
      "found an even number:  4\n",
      "5\n",
      "found an even number:  6\n",
      "7\n",
      "found an even number:  8\n",
      "9\n"
     ]
    }
   ],
   "source": [
    "for num in range (1,10):\n",
    "    if num % 2 == 0:\n",
    "        print('found an even number: ', num)\n",
    "        \n",
    "        continue\n",
    "        \n",
    "    print(num)"
   ]
  },
  {
   "cell_type": "code",
   "execution_count": 10,
   "metadata": {},
   "outputs": [
    {
     "name": "stdout",
     "output_type": "stream",
     "text": [
      "\n",
      "before the continue statement 1\n",
      "after the continue statement 1\n",
      "\n",
      "before the continue statement 2\n",
      "after the continue statement 2\n",
      "\n",
      "before the continue statement 3\n",
      "\n",
      "before the continue statement 4\n",
      "after the continue statement 4\n",
      "\n",
      "before the continue statement 5\n",
      "after the continue statement 5\n",
      "\n",
      "before the continue statement 6\n",
      "\n",
      "before the continue statement 7\n",
      "after the continue statement 7\n",
      "\n",
      "before the continue statement 8\n",
      "after the continue statement 8\n",
      "\n",
      "before the continue statement 9\n",
      "\n",
      "before the continue statement 10\n",
      "after the continue statement 10\n",
      "\n",
      "before the continue statement 11\n",
      "after the continue statement 11\n"
     ]
    }
   ],
   "source": [
    "for i in range(1, 12):\n",
    "    \n",
    "    print()\n",
    "    print('before the continue statement', i)\n",
    "    \n",
    "    if i % 3 == 0:\n",
    "        continue\n",
    "        \n",
    "    print(\"after the continue statement\", i)"
   ]
  },
  {
   "cell_type": "code",
   "execution_count": 11,
   "metadata": {},
   "outputs": [
    {
     "name": "stdout",
     "output_type": "stream",
     "text": [
      "Jan  Month has  31  days\n",
      "Mar  Month has  31  days\n",
      "Apr  Month has  30  days\n",
      "May  Month has  31  days\n",
      "Jun  Month has  30  days\n",
      "Jul  Month has  31  days\n",
      "Aug  Month has  31  days\n",
      "Sep  Month has  30  days\n",
      "Oct  Month has  31  days\n",
      "Nov  Month has  30  days\n",
      "Dec  Month has  31  days\n"
     ]
    }
   ],
   "source": [
    "num_days = [31,28,31,30,31,30,31,31,30,31,30,31]\n",
    "\n",
    "months = ['Jan','Feb','Mar','Apr','May','Jun','Jul','Aug','Sep','Oct','Nov','Dec']\n",
    "\n",
    "new_dict = dict()\n",
    "\n",
    "for i, j in zip(months, num_days):\n",
    "    new_dict.update({i:j})\n",
    "    \n",
    "    if new_dict[i] < 29:\n",
    "        continue\n",
    "        \n",
    "    else:\n",
    "        print(i, ' Month has ', new_dict[i], ' days')"
   ]
  },
  {
   "cell_type": "code",
   "execution_count": 12,
   "metadata": {},
   "outputs": [
    {
     "name": "stdout",
     "output_type": "stream",
     "text": [
      "deer\n",
      "rabbit\n",
      "dog\n",
      "cat\n"
     ]
    }
   ],
   "source": [
    "animals = ['deer','rabbit','lion','dog','cat','elephant','giraffe']\n",
    "\n",
    "for pet in animals:\n",
    "    if pet == \"lion\":\n",
    "        continue\n",
    "    if pet == 'elephant':\n",
    "        break\n",
    "    print(pet)    "
   ]
  },
  {
   "cell_type": "code",
   "execution_count": null,
   "metadata": {},
   "outputs": [],
   "source": []
  },
  {
   "cell_type": "code",
   "execution_count": null,
   "metadata": {},
   "outputs": [],
   "source": []
  },
  {
   "cell_type": "code",
   "execution_count": null,
   "metadata": {},
   "outputs": [],
   "source": []
  },
  {
   "cell_type": "code",
   "execution_count": null,
   "metadata": {},
   "outputs": [],
   "source": []
  },
  {
   "cell_type": "code",
   "execution_count": null,
   "metadata": {},
   "outputs": [],
   "source": []
  },
  {
   "cell_type": "code",
   "execution_count": null,
   "metadata": {},
   "outputs": [],
   "source": []
  },
  {
   "cell_type": "code",
   "execution_count": null,
   "metadata": {},
   "outputs": [],
   "source": []
  }
 ],
 "metadata": {
  "kernelspec": {
   "display_name": "Python 3",
   "language": "python",
   "name": "python3"
  },
  "language_info": {
   "codemirror_mode": {
    "name": "ipython",
    "version": 3
   },
   "file_extension": ".py",
   "mimetype": "text/x-python",
   "name": "python",
   "nbconvert_exporter": "python",
   "pygments_lexer": "ipython3",
   "version": "3.8.3"
  }
 },
 "nbformat": 4,
 "nbformat_minor": 4
}
