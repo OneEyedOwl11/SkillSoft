{
 "cells": [
  {
   "cell_type": "code",
   "execution_count": 1,
   "metadata": {},
   "outputs": [
    {
     "name": "stdout",
     "output_type": "stream",
     "text": [
      "The villain got away: \n"
     ]
    }
   ],
   "source": [
    "places = ['New Zealand','Norway','Botswana','Zimbabwe','Uzebekistan','Paraguay']\n",
    "\n",
    "villain_at = 'Mali'\n",
    "\n",
    "for place in places:\n",
    "    if place == villain_at:\n",
    "        print('The villain has been captured: ')\n",
    "        break\n",
    "else:\n",
    "    print('The villain got away: ')"
   ]
  },
  {
   "cell_type": "code",
   "execution_count": 3,
   "metadata": {},
   "outputs": [
    {
     "name": "stdout",
     "output_type": "stream",
     "text": [
      "The villain has been captured :) \n"
     ]
    }
   ],
   "source": [
    "places = ['New Zealand','Norway','Botswana','Zimbabwe','Uzebekistan','Paraguay']\n",
    "\n",
    "villain_at = 'Norway'\n",
    "\n",
    "for place in places:\n",
    "    if place == villain_at:\n",
    "        print('The villain has been captured :) ')\n",
    "        break\n",
    "else:\n",
    "    print('The villain got away :( ')"
   ]
  },
  {
   "cell_type": "code",
   "execution_count": 8,
   "metadata": {},
   "outputs": [
    {
     "name": "stdout",
     "output_type": "stream",
     "text": [
      "Enter a number: 7\n",
      "7 is a prime number\n"
     ]
    }
   ],
   "source": [
    "num = int(input('Enter a number: '))\n",
    "\n",
    "for i in range(2, num//2):\n",
    "    if num % i == 0:\n",
    "        print('it is not a prime number')\n",
    "        break\n",
    "\n",
    "else:\n",
    "    print(num, 'is a prime number')"
   ]
  },
  {
   "cell_type": "code",
   "execution_count": 5,
   "metadata": {},
   "outputs": [
    {
     "name": "stdout",
     "output_type": "stream",
     "text": [
      "Enter a number: 5\n",
      "range(2, 2)\n"
     ]
    }
   ],
   "source": [
    "num = int(input('Enter a number: '))\n",
    "\n",
    "print(range(2, num//2))"
   ]
  },
  {
   "cell_type": "code",
   "execution_count": 10,
   "metadata": {},
   "outputs": [
    {
     "name": "stdout",
     "output_type": "stream",
     "text": [
      "enter a password: secret\n",
      "you guessed the password\n"
     ]
    }
   ],
   "source": [
    "for i in range(3):\n",
    "    password = str(input('enter a password: '))\n",
    "    \n",
    "    if password == 'secret':\n",
    "        print('you guessed the password')\n",
    "        break\n",
    "        \n",
    "else:\n",
    "    print('3 incorrect password attempts')"
   ]
  },
  {
   "cell_type": "code",
   "execution_count": null,
   "metadata": {},
   "outputs": [],
   "source": []
  },
  {
   "cell_type": "code",
   "execution_count": null,
   "metadata": {},
   "outputs": [],
   "source": []
  },
  {
   "cell_type": "code",
   "execution_count": null,
   "metadata": {},
   "outputs": [],
   "source": []
  },
  {
   "cell_type": "code",
   "execution_count": null,
   "metadata": {},
   "outputs": [],
   "source": []
  },
  {
   "cell_type": "code",
   "execution_count": null,
   "metadata": {},
   "outputs": [],
   "source": []
  },
  {
   "cell_type": "code",
   "execution_count": null,
   "metadata": {},
   "outputs": [],
   "source": []
  },
  {
   "cell_type": "code",
   "execution_count": null,
   "metadata": {},
   "outputs": [],
   "source": []
  },
  {
   "cell_type": "code",
   "execution_count": null,
   "metadata": {},
   "outputs": [],
   "source": []
  },
  {
   "cell_type": "code",
   "execution_count": null,
   "metadata": {},
   "outputs": [],
   "source": []
  },
  {
   "cell_type": "code",
   "execution_count": null,
   "metadata": {},
   "outputs": [],
   "source": []
  },
  {
   "cell_type": "code",
   "execution_count": null,
   "metadata": {},
   "outputs": [],
   "source": []
  }
 ],
 "metadata": {
  "kernelspec": {
   "display_name": "Python 3",
   "language": "python",
   "name": "python3"
  },
  "language_info": {
   "codemirror_mode": {
    "name": "ipython",
    "version": 3
   },
   "file_extension": ".py",
   "mimetype": "text/x-python",
   "name": "python",
   "nbconvert_exporter": "python",
   "pygments_lexer": "ipython3",
   "version": "3.8.3"
  }
 },
 "nbformat": 4,
 "nbformat_minor": 4
}
