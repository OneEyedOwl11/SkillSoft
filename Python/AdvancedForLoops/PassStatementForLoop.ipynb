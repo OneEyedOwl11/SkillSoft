{
 "cells": [
  {
   "cell_type": "code",
   "execution_count": 1,
   "metadata": {},
   "outputs": [
    {
     "name": "stdout",
     "output_type": "stream",
     "text": [
      "s\n",
      "t\n",
      "r\n",
      "i\n",
      "n\n",
      "g\n"
     ]
    }
   ],
   "source": [
    "for letter in 'string':\n",
    "    if letter == 'r':\n",
    "        pass\n",
    "    print(letter)"
   ]
  },
  {
   "cell_type": "code",
   "execution_count": 2,
   "metadata": {
    "scrolled": true
   },
   "outputs": [
    {
     "name": "stdout",
     "output_type": "stream",
     "text": [
      "Current Letter : s\n",
      "Current Letter : t\n",
      "this is the pass block\n",
      "Current Letter : i\n",
      "Current Letter : n\n",
      "Current Letter : g\n",
      "out of the loop\n"
     ]
    }
   ],
   "source": [
    "for letter in 'string':\n",
    "    if letter == 'r':\n",
    "        \n",
    "        pass\n",
    "        print('this is the pass block')\n",
    "    else:\n",
    "        print('Current Letter :', letter)\n",
    "        \n",
    "print('out of the loop')\n"
   ]
  },
  {
   "cell_type": "code",
   "execution_count": 3,
   "metadata": {},
   "outputs": [
    {
     "name": "stdout",
     "output_type": "stream",
     "text": [
      "1\n",
      "3\n",
      "5\n",
      "7\n",
      "9\n"
     ]
    }
   ],
   "source": [
    "for i in range(10):\n",
    "    if (i % 2 == 0):\n",
    "        pass\n",
    "    else:\n",
    "        print(i)"
   ]
  },
  {
   "cell_type": "code",
   "execution_count": 6,
   "metadata": {},
   "outputs": [
    {
     "name": "stdout",
     "output_type": "stream",
     "text": [
      "odd numbers 0\n",
      "total numbers 1 \n",
      "\n",
      "1\n",
      "odd numbers 1\n",
      "total numbers 2 \n",
      "\n",
      "odd numbers 1\n",
      "total numbers 3 \n",
      "\n",
      "3\n",
      "odd numbers 2\n",
      "total numbers 4 \n",
      "\n",
      "odd numbers 2\n",
      "total numbers 5 \n",
      "\n",
      "5\n",
      "odd numbers 3\n",
      "total numbers 6 \n",
      "\n",
      "odd numbers 3\n",
      "total numbers 7 \n",
      "\n",
      "7\n",
      "odd numbers 4\n",
      "total numbers 8 \n",
      "\n",
      "odd numbers 4\n",
      "total numbers 9 \n",
      "\n",
      "9\n",
      "odd numbers 5\n",
      "total numbers 10 \n",
      "\n"
     ]
    }
   ],
   "source": [
    "odd_count=0\n",
    "total_count=0\n",
    "\n",
    "for i in range(10):\n",
    "    if (i % 2 == 0):\n",
    "        pass\n",
    "    else:\n",
    "        print(i)\n",
    "        odd_count += 1\n",
    "    \n",
    "    total_count += 1\n",
    "    \n",
    "    print('odd numbers', odd_count)\n",
    "    print('total numbers', total_count, '\\n')"
   ]
  },
  {
   "cell_type": "code",
   "execution_count": 9,
   "metadata": {},
   "outputs": [
    {
     "name": "stdout",
     "output_type": "stream",
     "text": [
      "input a string: isPython*&%&*666\n",
      "Digits =  3\n",
      "Letters =  8\n"
     ]
    }
   ],
   "source": [
    "my_str = input ('input a string: ')\n",
    "\n",
    "digits = 0\n",
    "letters = 0\n",
    "\n",
    "for i in my_str:\n",
    "    if i.isdigit():\n",
    "        digits = digits+1\n",
    "        \n",
    "    elif i.isalpha():\n",
    "        letters = letters + 1\n",
    "        \n",
    "    else:\n",
    "        pass\n",
    "print('Digits = ', digits)\n",
    "print('Letters = ', letters)"
   ]
  },
  {
   "cell_type": "code",
   "execution_count": null,
   "metadata": {},
   "outputs": [],
   "source": []
  },
  {
   "cell_type": "code",
   "execution_count": null,
   "metadata": {},
   "outputs": [],
   "source": []
  },
  {
   "cell_type": "code",
   "execution_count": null,
   "metadata": {},
   "outputs": [],
   "source": []
  },
  {
   "cell_type": "code",
   "execution_count": null,
   "metadata": {},
   "outputs": [],
   "source": []
  },
  {
   "cell_type": "code",
   "execution_count": null,
   "metadata": {},
   "outputs": [],
   "source": []
  },
  {
   "cell_type": "code",
   "execution_count": null,
   "metadata": {},
   "outputs": [],
   "source": []
  },
  {
   "cell_type": "code",
   "execution_count": null,
   "metadata": {},
   "outputs": [],
   "source": []
  },
  {
   "cell_type": "code",
   "execution_count": null,
   "metadata": {},
   "outputs": [],
   "source": []
  },
  {
   "cell_type": "code",
   "execution_count": null,
   "metadata": {},
   "outputs": [],
   "source": []
  },
  {
   "cell_type": "code",
   "execution_count": null,
   "metadata": {},
   "outputs": [],
   "source": []
  },
  {
   "cell_type": "code",
   "execution_count": null,
   "metadata": {},
   "outputs": [],
   "source": []
  },
  {
   "cell_type": "code",
   "execution_count": null,
   "metadata": {},
   "outputs": [],
   "source": []
  },
  {
   "cell_type": "code",
   "execution_count": null,
   "metadata": {},
   "outputs": [],
   "source": []
  },
  {
   "cell_type": "code",
   "execution_count": null,
   "metadata": {},
   "outputs": [],
   "source": []
  }
 ],
 "metadata": {
  "kernelspec": {
   "display_name": "Python 3",
   "language": "python",
   "name": "python3"
  },
  "language_info": {
   "codemirror_mode": {
    "name": "ipython",
    "version": 3
   },
   "file_extension": ".py",
   "mimetype": "text/x-python",
   "name": "python",
   "nbconvert_exporter": "python",
   "pygments_lexer": "ipython3",
   "version": "3.8.3"
  }
 },
 "nbformat": 4,
 "nbformat_minor": 4
}
