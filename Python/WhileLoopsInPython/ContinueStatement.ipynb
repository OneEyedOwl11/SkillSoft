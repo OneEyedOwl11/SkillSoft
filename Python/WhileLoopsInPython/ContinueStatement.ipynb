{
 "cells": [
  {
   "cell_type": "code",
   "execution_count": 1,
   "metadata": {},
   "outputs": [
    {
     "name": "stdout",
     "output_type": "stream",
     "text": [
      "odd number : 1\n",
      "odd number : 3\n",
      "odd number : 5\n",
      "odd number : 7\n",
      "odd number : 9\n",
      "Gbye!\n"
     ]
    }
   ],
   "source": [
    "num = 0 \n",
    "\n",
    "while num < 10:\n",
    "    num += 1\n",
    "    \n",
    "    if num % 2 == 0:\n",
    "        continue\n",
    "        \n",
    "    print('odd number :', num)\n",
    "    \n",
    "print('Gbye!')"
   ]
  },
  {
   "cell_type": "code",
   "execution_count": 2,
   "metadata": {},
   "outputs": [
    {
     "name": "stdout",
     "output_type": "stream",
     "text": [
      "[1, 2, 3, 4, 6, 8, 9, 11, 12, 13, 16, 17, 18, 19, 22, 23, 24, 26, 27, 29, 31, 32, 33, 34, 36, 37, 38, 39, 41, 43, 44, 46, 47, 48]\n"
     ]
    }
   ],
   "source": [
    "my_list = []\n",
    "\n",
    "num = 0\n",
    "\n",
    "while num in range(0,50):\n",
    "    num+=1\n",
    "    \n",
    "    if num %5 == 0 or num % 7 ==0:\n",
    "        continue\n",
    "        \n",
    "    my_list.append(num)\n",
    "    \n",
    "print(my_list)"
   ]
  },
  {
   "cell_type": "code",
   "execution_count": 5,
   "metadata": {
    "scrolled": true
   },
   "outputs": [
    {
     "name": "stdout",
     "output_type": "stream",
     "text": [
      "\n",
      "Enter a number: as\n",
      "enter integers only (continue statement executed)\n",
      "\n",
      "Enter a number: asdwas\n",
      "enter integers only (continue statement executed)\n",
      "\n",
      "Enter a number: 8\n",
      "Cube of 8 is 512\n",
      "\n",
      "Enter a number: out\n",
      "Good bye: (break statement executed)\n"
     ]
    }
   ],
   "source": [
    "while True:\n",
    "    \n",
    "    value = input('\\nEnter a number: ')\n",
    "    \n",
    "    if value == \"out\":\n",
    "        print('Good bye: (break statement executed)')\n",
    "        break\n",
    "        \n",
    "    if not value.isdigit(): # if input is a digit move on to the next iteration\n",
    "        print('enter integers only (continue statement executed)')\n",
    "        continue\n",
    "        \n",
    "    value = int(value)\n",
    "    print('Cube of %d is %d' %(value, value ** 3))"
   ]
  },
  {
   "cell_type": "code",
   "execution_count": null,
   "metadata": {},
   "outputs": [],
   "source": []
  },
  {
   "cell_type": "code",
   "execution_count": null,
   "metadata": {},
   "outputs": [],
   "source": []
  },
  {
   "cell_type": "code",
   "execution_count": null,
   "metadata": {},
   "outputs": [],
   "source": []
  },
  {
   "cell_type": "code",
   "execution_count": null,
   "metadata": {},
   "outputs": [],
   "source": []
  },
  {
   "cell_type": "code",
   "execution_count": null,
   "metadata": {},
   "outputs": [],
   "source": []
  },
  {
   "cell_type": "code",
   "execution_count": null,
   "metadata": {},
   "outputs": [],
   "source": []
  },
  {
   "cell_type": "code",
   "execution_count": null,
   "metadata": {},
   "outputs": [],
   "source": []
  }
 ],
 "metadata": {
  "kernelspec": {
   "display_name": "Python 3",
   "language": "python",
   "name": "python3"
  },
  "language_info": {
   "codemirror_mode": {
    "name": "ipython",
    "version": 3
   },
   "file_extension": ".py",
   "mimetype": "text/x-python",
   "name": "python",
   "nbconvert_exporter": "python",
   "pygments_lexer": "ipython3",
   "version": "3.8.3"
  }
 },
 "nbformat": 4,
 "nbformat_minor": 4
}
