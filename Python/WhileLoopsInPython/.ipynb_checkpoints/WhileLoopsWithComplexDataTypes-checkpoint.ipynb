{
 "cells": [
  {
   "cell_type": "code",
   "execution_count": 1,
   "metadata": {},
   "outputs": [],
   "source": [
    "num_list = [20,30,40,50,60]"
   ]
  },
  {
   "cell_type": "code",
   "execution_count": 2,
   "metadata": {},
   "outputs": [
    {
     "name": "stdout",
     "output_type": "stream",
     "text": [
      "20\n",
      "30\n",
      "40\n",
      "50\n",
      "60\n"
     ]
    }
   ],
   "source": [
    "count = 0\n",
    "\n",
    "while count < len(num_list):\n",
    "    print(num_list[count])\n",
    "    \n",
    "    count += 1"
   ]
  },
  {
   "cell_type": "code",
   "execution_count": 3,
   "metadata": {},
   "outputs": [
    {
     "data": {
      "text/plain": [
       "5"
      ]
     },
     "execution_count": 3,
     "metadata": {},
     "output_type": "execute_result"
    }
   ],
   "source": [
    "len(num_list)"
   ]
  },
  {
   "cell_type": "code",
   "execution_count": 8,
   "metadata": {},
   "outputs": [
    {
     "name": "stdout",
     "output_type": "stream",
     "text": [
      "there are 5 elements in the list\n"
     ]
    }
   ],
   "source": [
    "count = 0\n",
    "\n",
    "while count < len(num_list):\n",
    "    \n",
    "    count += 1\n",
    "    \n",
    "print('there are %d elements in the list' % count)"
   ]
  },
  {
   "cell_type": "code",
   "execution_count": 11,
   "metadata": {},
   "outputs": [
    {
     "name": "stdout",
     "output_type": "stream",
     "text": [
      "20\n",
      "50\n",
      "90\n",
      "140\n",
      "200\n",
      "sum of all elements in the list : 200\n"
     ]
    }
   ],
   "source": [
    "total = 0\n",
    "element = 0\n",
    "\n",
    "while element < len(num_list):\n",
    "    \n",
    "    total += num_list[element]\n",
    "    \n",
    "    print(total)\n",
    "    \n",
    "    element += 1\n",
    "    \n",
    "print('sum of all elements in the list :', total)"
   ]
  },
  {
   "cell_type": "code",
   "execution_count": 12,
   "metadata": {},
   "outputs": [
    {
     "name": "stdout",
     "output_type": "stream",
     "text": [
      "20\n",
      "50\n",
      "90\n",
      "140\n",
      "200\n",
      "sum of all elements in the list : 200\n"
     ]
    }
   ],
   "source": [
    "total = 0\n",
    "element = 0\n",
    "\n",
    "for element in num_list:\n",
    "    \n",
    "    total += element\n",
    "    \n",
    "    print(total)\n",
    "    \n",
    "    element += 1\n",
    "    \n",
    "print('sum of all elements in the list :', total)"
   ]
  },
  {
   "cell_type": "code",
   "execution_count": 13,
   "metadata": {},
   "outputs": [],
   "source": [
    "sm_brand = ['s1','s2','s3','s4','s5','s6','s7']"
   ]
  },
  {
   "cell_type": "code",
   "execution_count": 14,
   "metadata": {},
   "outputs": [
    {
     "name": "stdout",
     "output_type": "stream",
     "text": [
      "s1\n",
      "s2\n",
      "s3\n",
      "s4\n",
      "s5\n",
      "s6\n",
      "s7\n"
     ]
    },
    {
     "ename": "IndexError",
     "evalue": "list index out of range",
     "output_type": "error",
     "traceback": [
      "\u001b[0;31m---------------------------------------------------------------------------\u001b[0m",
      "\u001b[0;31mIndexError\u001b[0m                                Traceback (most recent call last)",
      "\u001b[0;32m<ipython-input-14-eddc7999b5d6>\u001b[0m in \u001b[0;36m<module>\u001b[0;34m\u001b[0m\n\u001b[1;32m      2\u001b[0m \u001b[0;34m\u001b[0m\u001b[0m\n\u001b[1;32m      3\u001b[0m \u001b[0;32mwhile\u001b[0m \u001b[0mcount\u001b[0m \u001b[0;34m<\u001b[0m \u001b[0;36m10\u001b[0m\u001b[0;34m:\u001b[0m\u001b[0;34m\u001b[0m\u001b[0;34m\u001b[0m\u001b[0m\n\u001b[0;32m----> 4\u001b[0;31m     \u001b[0mprint\u001b[0m\u001b[0;34m(\u001b[0m\u001b[0msm_brand\u001b[0m\u001b[0;34m[\u001b[0m\u001b[0mcount\u001b[0m\u001b[0;34m]\u001b[0m\u001b[0;34m)\u001b[0m\u001b[0;34m\u001b[0m\u001b[0;34m\u001b[0m\u001b[0m\n\u001b[0m\u001b[1;32m      5\u001b[0m \u001b[0;34m\u001b[0m\u001b[0m\n\u001b[1;32m      6\u001b[0m     \u001b[0mcount\u001b[0m \u001b[0;34m+=\u001b[0m \u001b[0;36m1\u001b[0m\u001b[0;34m\u001b[0m\u001b[0;34m\u001b[0m\u001b[0m\n",
      "\u001b[0;31mIndexError\u001b[0m: list index out of range"
     ]
    }
   ],
   "source": [
    "count = 0\n",
    "\n",
    "while count < 10:\n",
    "    print(sm_brand[count])\n",
    "    \n",
    "    count += 1"
   ]
  },
  {
   "cell_type": "code",
   "execution_count": 15,
   "metadata": {},
   "outputs": [
    {
     "name": "stdout",
     "output_type": "stream",
     "text": [
      "s1\n",
      "s2\n",
      "s3\n",
      "s4\n",
      "s5\n",
      "s6\n",
      "s7\n"
     ]
    }
   ],
   "source": [
    "count = 0\n",
    "\n",
    "while count < len(sm_brand):\n",
    "    print(sm_brand[count])\n",
    "    \n",
    "    count += 1"
   ]
  },
  {
   "cell_type": "code",
   "execution_count": 16,
   "metadata": {},
   "outputs": [
    {
     "name": "stdout",
     "output_type": "stream",
     "text": [
      "s1\n",
      "s3\n",
      "s5\n",
      "s7\n"
     ]
    }
   ],
   "source": [
    "count = 0\n",
    "\n",
    "while count < len(sm_brand):\n",
    "    print(sm_brand[count])\n",
    "    \n",
    "    count += 2"
   ]
  },
  {
   "cell_type": "code",
   "execution_count": 17,
   "metadata": {},
   "outputs": [],
   "source": [
    "even_list = []\n",
    "odd_list = []\n",
    "num = 0\n",
    "\n",
    "while num <= 50:\n",
    "    if num %2 == 0:\n",
    "        even_list.append(num)\n",
    "        \n",
    "    else:\n",
    "        odd_list.append(num)\n",
    "        \n",
    "    num += 1"
   ]
  },
  {
   "cell_type": "code",
   "execution_count": 18,
   "metadata": {},
   "outputs": [
    {
     "name": "stdout",
     "output_type": "stream",
     "text": [
      "[0, 2, 4, 6, 8, 10, 12, 14, 16, 18, 20, 22, 24, 26, 28, 30, 32, 34, 36, 38, 40, 42, 44, 46, 48, 50]\n",
      "[1, 3, 5, 7, 9, 11, 13, 15, 17, 19, 21, 23, 25, 27, 29, 31, 33, 35, 37, 39, 41, 43, 45, 47, 49]\n"
     ]
    }
   ],
   "source": [
    "print(even_list)\n",
    "print(odd_list)"
   ]
  },
  {
   "cell_type": "code",
   "execution_count": 19,
   "metadata": {},
   "outputs": [
    {
     "name": "stdout",
     "output_type": "stream",
     "text": [
      "     C       F\n",
      "  -20  -4.0\n",
      "  -15   5.0\n",
      "  -10  14.0\n",
      "   -5  23.0\n",
      "    0  32.0\n",
      "    5  41.0\n",
      "   10  50.0\n",
      "   15  59.0\n",
      "   20  68.0\n",
      "   25  77.0\n",
      "   30  86.0\n",
      "   35  95.0\n",
      "   40 104.0\n"
     ]
    }
   ],
   "source": [
    "c_degrees = [-20,-15,-10,-5,0,5,10,15,20,25,30,35,40]\n",
    "\n",
    "index = 0 \n",
    "\n",
    "print('     C       F')\n",
    "\n",
    "while index <len(c_degrees):\n",
    "    \n",
    "    C = c_degrees[index]\n",
    "    F = (9.0/5)*C + 32\n",
    "    \n",
    "    print('%5d %5.1f' %(C,F))\n",
    "    \n",
    "    index+=1"
   ]
  },
  {
   "cell_type": "code",
   "execution_count": 20,
   "metadata": {},
   "outputs": [],
   "source": [
    "name_list = ['n1','n2','n3','n4','n5']\n",
    "\n",
    "age_list = [22,26,24,28,21]"
   ]
  },
  {
   "cell_type": "code",
   "execution_count": 22,
   "metadata": {},
   "outputs": [
    {
     "name": "stdout",
     "output_type": "stream",
     "text": [
      "n1 is 22 years old\n",
      "n2 is 26 years old\n",
      "n3 is 24 years old\n",
      "n4 is 28 years old\n",
      "n5 is 21 years old\n"
     ]
    }
   ],
   "source": [
    "index = 0 \n",
    "\n",
    "while index <len(name_list):\n",
    "    \n",
    "    print(name_list[index], 'is', age_list[index], 'years old')\n",
    "    \n",
    "    index += 1"
   ]
  },
  {
   "cell_type": "code",
   "execution_count": 23,
   "metadata": {},
   "outputs": [
    {
     "name": "stdout",
     "output_type": "stream",
     "text": [
      "a\n",
      "b\n",
      "c\n",
      "d\n",
      "e\n",
      "f\n",
      "g\n",
      "h\n"
     ]
    }
   ],
   "source": [
    "alpha_tuple = ('a','b','c','d','e','f','g','h')\n",
    "count = 0\n",
    "\n",
    "while count < 8:\n",
    "    \n",
    "    print(alpha_tuple[count])\n",
    "    \n",
    "    count+=1"
   ]
  },
  {
   "cell_type": "code",
   "execution_count": 24,
   "metadata": {},
   "outputs": [],
   "source": [
    "char_name = ('css1','casdfe2','casdgdsfga3','c4wasf','c5asdasdsdfsdsfesdf')"
   ]
  },
  {
   "cell_type": "code",
   "execution_count": 28,
   "metadata": {},
   "outputs": [
    {
     "name": "stdout",
     "output_type": "stream",
     "text": [
      "the longest name in the tuple is:  c5asdasdsdfsdsfesdf\n"
     ]
    }
   ],
   "source": [
    "long_name = char_name[0]\n",
    "\n",
    "index = 0\n",
    "\n",
    "while index < len(char_name):\n",
    "    \n",
    "    if len(long_name) < len(char_name[index]):\n",
    "        \n",
    "        long_name = char_name[index]\n",
    "        \n",
    "    index+=1\n",
    "        \n",
    "print('the longest name in the tuple is: ', long_name)"
   ]
  },
  {
   "cell_type": "code",
   "execution_count": null,
   "metadata": {},
   "outputs": [],
   "source": []
  },
  {
   "cell_type": "code",
   "execution_count": null,
   "metadata": {},
   "outputs": [],
   "source": []
  }
 ],
 "metadata": {
  "kernelspec": {
   "display_name": "Python 3",
   "language": "python",
   "name": "python3"
  },
  "language_info": {
   "codemirror_mode": {
    "name": "ipython",
    "version": 3
   },
   "file_extension": ".py",
   "mimetype": "text/x-python",
   "name": "python",
   "nbconvert_exporter": "python",
   "pygments_lexer": "ipython3",
   "version": "3.8.3"
  }
 },
 "nbformat": 4,
 "nbformat_minor": 4
}
