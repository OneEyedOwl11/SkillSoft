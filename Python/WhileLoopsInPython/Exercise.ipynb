{
 "cells": [
  {
   "cell_type": "code",
   "execution_count": 1,
   "metadata": {},
   "outputs": [],
   "source": [
    "#For and while\n",
    "#similarities\n",
    "#used to run section of code repeatedly\n",
    "#While \n",
    "#Will go on until condition is met of break specified\n",
    "#Used when iteration number is unknown\n",
    "\n",
    "#For\n",
    "#iterate over sequence of values\n",
    "#known length of iterations\n",
    "#iterable object can be defined in a range\n",
    "\n"
   ]
  },
  {
   "cell_type": "code",
   "execution_count": null,
   "metadata": {},
   "outputs": [
    {
     "name": "stdout",
     "output_type": "stream",
     "text": [
      "Enter capital of Egypt: asd\n",
      "Incorrect try again...\n",
      "Enter capital of Egypt: weasd\n",
      "Incorrect try again...\n",
      "Enter capital of Egypt: asdas\n",
      "Incorrect try again...\n"
     ]
    }
   ],
   "source": [
    "while True:\n",
    "    \n",
    "    answer = input('Enter capital of Egypt: ')\n",
    "    \n",
    "    if answer.upper() == \"CAIRO\":\n",
    "        print('This is the capital of Egypt')\n",
    "        break\n",
    "        \n",
    "    if answer == \"quit\":\n",
    "        print('You Give Up')\n",
    "        break\n",
    "        \n",
    "    else:\n",
    "        print('Incorrect try again...')\n",
    "        \n",
    "\n"
   ]
  },
  {
   "cell_type": "code",
   "execution_count": null,
   "metadata": {},
   "outputs": [],
   "source": []
  },
  {
   "cell_type": "code",
   "execution_count": null,
   "metadata": {},
   "outputs": [],
   "source": []
  },
  {
   "cell_type": "code",
   "execution_count": null,
   "metadata": {},
   "outputs": [],
   "source": []
  },
  {
   "cell_type": "code",
   "execution_count": null,
   "metadata": {},
   "outputs": [],
   "source": []
  },
  {
   "cell_type": "code",
   "execution_count": null,
   "metadata": {},
   "outputs": [],
   "source": []
  },
  {
   "cell_type": "code",
   "execution_count": null,
   "metadata": {},
   "outputs": [],
   "source": []
  },
  {
   "cell_type": "code",
   "execution_count": null,
   "metadata": {},
   "outputs": [],
   "source": []
  },
  {
   "cell_type": "code",
   "execution_count": null,
   "metadata": {},
   "outputs": [],
   "source": []
  }
 ],
 "metadata": {
  "kernelspec": {
   "display_name": "Python 3",
   "language": "python",
   "name": "python3"
  },
  "language_info": {
   "codemirror_mode": {
    "name": "ipython",
    "version": 3
   },
   "file_extension": ".py",
   "mimetype": "text/x-python",
   "name": "python",
   "nbconvert_exporter": "python",
   "pygments_lexer": "ipython3",
   "version": "3.8.3"
  }
 },
 "nbformat": 4,
 "nbformat_minor": 4
}
