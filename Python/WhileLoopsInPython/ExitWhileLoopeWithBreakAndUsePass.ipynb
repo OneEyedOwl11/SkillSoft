{
 "cells": [
  {
   "cell_type": "code",
   "execution_count": 1,
   "metadata": {},
   "outputs": [
    {
     "name": "stdout",
     "output_type": "stream",
     "text": [
      "20\n"
     ]
    }
   ],
   "source": [
    "number = 20\n",
    "\n",
    "while number < 25:\n",
    "    print(number)\n",
    "    break"
   ]
  },
  {
   "cell_type": "code",
   "execution_count": 2,
   "metadata": {},
   "outputs": [
    {
     "name": "stdout",
     "output_type": "stream",
     "text": [
      "10\n",
      "20\n",
      "30\n",
      "40\n",
      "50\n",
      "out of loop\n"
     ]
    }
   ],
   "source": [
    "num = 10 \n",
    "\n",
    "while num in range(10,100):\n",
    "    \n",
    "    print(num)\n",
    "    \n",
    "    if num == 50:\n",
    "        break\n",
    "        \n",
    "    num += 10\n",
    "    \n",
    "print('out of loop')"
   ]
  },
  {
   "cell_type": "code",
   "execution_count": 5,
   "metadata": {},
   "outputs": [
    {
     "name": "stdout",
     "output_type": "stream",
     "text": [
      "enter a number: 5\n",
      "enter a number: 6\n",
      "\n",
      "We are out of loop since we encountered the number 6\n"
     ]
    }
   ],
   "source": [
    "num = 10\n",
    "\n",
    "while True:\n",
    "    num = int(input('enter a number: '))\n",
    "    \n",
    "    if num % 3 == 0:\n",
    "        \n",
    "        break\n",
    "        \n",
    "print('\\nWe are out of loop since we encountered the number', num)"
   ]
  },
  {
   "cell_type": "code",
   "execution_count": 7,
   "metadata": {},
   "outputs": [
    {
     "name": "stdout",
     "output_type": "stream",
     "text": [
      "N\n",
      "e\n",
      "w\n",
      "Y\n",
      "o\n",
      "r\n",
      "k\n"
     ]
    }
   ],
   "source": [
    "place = 'NewYorkCity'\n",
    "place_length = len(place)\n",
    "\n",
    "index = 0\n",
    "\n",
    "while index in range(place_length):\n",
    "    print(place[index])\n",
    "    \n",
    "    index += 1\n",
    "    \n",
    "    if place[index] == \"C\":\n",
    "        break"
   ]
  },
  {
   "cell_type": "code",
   "execution_count": 14,
   "metadata": {},
   "outputs": [],
   "source": [
    "clean_heystack = ['hay','hay','hay','hay',\n",
    "                  'hay','hay','hay','hay',]\n",
    "\n",
    "unclean_heystack = ['hay','hay','hay','hay',\n",
    "                  'hay','needle','hay','hay',]\n",
    "\n",
    "searching_for = 'needle'"
   ]
  },
  {
   "cell_type": "code",
   "execution_count": 15,
   "metadata": {},
   "outputs": [
    {
     "name": "stdout",
     "output_type": "stream",
     "text": [
      "\n",
      "The needle was not found :(\n"
     ]
    }
   ],
   "source": [
    "maximum = len(clean_heystack)\n",
    "\n",
    "i = 0\n",
    "\n",
    "while i < maximum:\n",
    "    \n",
    "    if searching_for == clean_heystack[i]:\n",
    "        print('The %s is at index %i: ' %(searching_for,i))\n",
    "        \n",
    "        del clean_heystack[i]\n",
    "        break\n",
    "        \n",
    "    i += 1\n",
    "    \n",
    "else:\n",
    "    print('\\nThe needle was not found :(')"
   ]
  },
  {
   "cell_type": "code",
   "execution_count": 16,
   "metadata": {},
   "outputs": [
    {
     "name": "stdout",
     "output_type": "stream",
     "text": [
      "The needle is at index 5: \n"
     ]
    }
   ],
   "source": [
    "maximum = len(clean_heystack)\n",
    "\n",
    "i = 0\n",
    "\n",
    "while i < maximum:\n",
    "    \n",
    "    if searching_for == unclean_heystack[i]:\n",
    "        print('The %s is at index %i: ' %(searching_for,i))\n",
    "        \n",
    "        del unclean_heystack[i]\n",
    "        break\n",
    "        \n",
    "    i += 1\n",
    "    \n",
    "else:\n",
    "    print('\\nThe needle was not found :(')"
   ]
  },
  {
   "cell_type": "code",
   "execution_count": 17,
   "metadata": {},
   "outputs": [
    {
     "data": {
      "text/plain": [
       "['hay', 'hay', 'hay', 'hay', 'hay', 'hay', 'hay']"
      ]
     },
     "execution_count": 17,
     "metadata": {},
     "output_type": "execute_result"
    }
   ],
   "source": [
    "unclean_heystack"
   ]
  },
  {
   "cell_type": "code",
   "execution_count": 20,
   "metadata": {},
   "outputs": [
    {
     "name": "stdout",
     "output_type": "stream",
     "text": [
      "enter an integer: 50\n",
      "prime numbers upto 50\n",
      "2\n",
      "3\n",
      "5\n",
      "7\n",
      "11\n",
      "13\n",
      "17\n",
      "19\n",
      "23\n",
      "29\n",
      "31\n",
      "37\n",
      "41\n",
      "43\n",
      "47\n"
     ]
    }
   ],
   "source": [
    "max_num = int(input('enter an integer: '))\n",
    "num = 2\n",
    "\n",
    "print('prime numbers upto %i' % max_num)\n",
    "\n",
    "while num < max_num + 1:\n",
    "    \n",
    "    isPrime = True\n",
    "    count = 2\n",
    "    \n",
    "    while count < num:\n",
    "        if num % count == 0:\n",
    "            isPrime = False\n",
    "            break\n",
    "            \n",
    "        count += 1\n",
    "        \n",
    "    if isPrime:\n",
    "        print(num)\n",
    "        \n",
    "    num += 1"
   ]
  },
  {
   "cell_type": "code",
   "execution_count": 22,
   "metadata": {},
   "outputs": [
    {
     "name": "stdout",
     "output_type": "stream",
     "text": [
      "current value is :  10\n",
      "current value is :  9\n",
      "current value is :  8\n",
      "current value is :  7\n",
      "current value is :  6\n",
      "current value is :  5\n",
      "this is a pass block\n",
      "current value is :  4\n",
      "current value is :  3\n",
      "current value is :  2\n",
      "current value is :  1\n",
      "Goodbye\n"
     ]
    }
   ],
   "source": [
    "num_value = 10\n",
    "\n",
    "while num_value > 0:\n",
    "    print('current value is : ', num_value)\n",
    "    \n",
    "    if num_value == 5:\n",
    "        pass\n",
    "        print('this is a pass block')\n",
    "        \n",
    "    num_value -= 1\n",
    "    \n",
    "print('Goodbye')"
   ]
  },
  {
   "cell_type": "code",
   "execution_count": 23,
   "metadata": {},
   "outputs": [
    {
     "name": "stdout",
     "output_type": "stream",
     "text": [
      "enter an integer: 10\n",
      "the current value is  10\n",
      "the current value is  9\n",
      "the current value is  8\n",
      "the current value is  4\n",
      "the current value is  3\n",
      "the current value is  2\n",
      "the current value is  1\n",
      "GB!\n"
     ]
    }
   ],
   "source": [
    "num_value = int(input('enter an integer: '))\n",
    "\n",
    "while num_value > 0:\n",
    "    \n",
    "    if num_value < 8 and num_value > 4:\n",
    "        pass\n",
    "    else:\n",
    "        print('the current value is ', num_value)\n",
    "        \n",
    "    num_value -= 1\n",
    "    \n",
    "else:\n",
    "    print('GB!')"
   ]
  },
  {
   "cell_type": "code",
   "execution_count": null,
   "metadata": {},
   "outputs": [],
   "source": []
  },
  {
   "cell_type": "code",
   "execution_count": null,
   "metadata": {},
   "outputs": [],
   "source": []
  },
  {
   "cell_type": "code",
   "execution_count": null,
   "metadata": {},
   "outputs": [],
   "source": []
  },
  {
   "cell_type": "code",
   "execution_count": null,
   "metadata": {},
   "outputs": [],
   "source": []
  },
  {
   "cell_type": "code",
   "execution_count": null,
   "metadata": {},
   "outputs": [],
   "source": []
  },
  {
   "cell_type": "code",
   "execution_count": null,
   "metadata": {},
   "outputs": [],
   "source": []
  },
  {
   "cell_type": "code",
   "execution_count": null,
   "metadata": {},
   "outputs": [],
   "source": []
  },
  {
   "cell_type": "code",
   "execution_count": null,
   "metadata": {},
   "outputs": [],
   "source": []
  },
  {
   "cell_type": "code",
   "execution_count": null,
   "metadata": {},
   "outputs": [],
   "source": []
  }
 ],
 "metadata": {
  "kernelspec": {
   "display_name": "Python 3",
   "language": "python",
   "name": "python3"
  },
  "language_info": {
   "codemirror_mode": {
    "name": "ipython",
    "version": 3
   },
   "file_extension": ".py",
   "mimetype": "text/x-python",
   "name": "python",
   "nbconvert_exporter": "python",
   "pygments_lexer": "ipython3",
   "version": "3.8.3"
  }
 },
 "nbformat": 4,
 "nbformat_minor": 4
}
